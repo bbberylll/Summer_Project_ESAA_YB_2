{
  "nbformat": 4,
  "nbformat_minor": 0,
  "metadata": {
    "colab": {
      "provenance": [],
      "authorship_tag": "ABX9TyPUZS5IW55kqaTxoUToCtXO",
      "include_colab_link": true
    },
    "kernelspec": {
      "name": "python3",
      "display_name": "Python 3"
    },
    "language_info": {
      "name": "python"
    }
  },
  "cells": [
    {
      "cell_type": "markdown",
      "metadata": {
        "id": "view-in-github",
        "colab_type": "text"
      },
      "source": [
        "<a href=\"https://colab.research.google.com/github/bbberylll/Summer_Project_ESAA_YB_2/blob/main/Untitled12.ipynb\" target=\"_parent\"><img src=\"https://colab.research.google.com/assets/colab-badge.svg\" alt=\"Open In Colab\"/></a>"
      ]
    },
    {
      "cell_type": "code",
      "execution_count": null,
      "metadata": {
        "id": "5aJ7UW9jaBKz"
      },
      "outputs": [],
      "source": []
    },
    {
      "cell_type": "markdown",
      "source": [
        "# Tabular Playground Series — CatBoost Classification\n",
        "\n",
        "## 1) 사용한 데이터와 주제 설명\n",
        "- **데이터**: Kaggle Tabular Playground Series (예: TPS 2021/2022 분류 문제)\n",
        "- **주제**: 범주형과 수치형 변수가 섞인 데이터에서 **타깃 클래스(이탈 여부, 거래 여부 등)** 를 예측하는 분류 문제\n",
        "- **특징**:\n",
        "  - 범주형 컬럼이 다수 존재\n",
        "  - 결측치와 노이즈가 일부 포함\n",
        "  - 클래스 불균형 문제도 종종 나타남\n",
        "\n",
        "---\n",
        "\n",
        "## 2) 어떤 기법이 적용됐는지\n",
        "- **EDA**:\n",
        "  - target 분포 확인 (불균형 여부)\n",
        "  - 범주형/수치형 변수 분포 파악\n",
        "- **전처리**:\n",
        "  - CatBoost는 **원-핫 인코딩 불필요**, 범주형은 그대로 `cat_features`로 지정\n",
        "  - 결측치는 CatBoost가 처리 가능\n",
        "- **모델링**:\n",
        "  - CatBoostClassifier (iterations, depth, learning_rate, l2_leaf_reg 튜닝)\n",
        "  - Early Stopping 적용\n",
        "  - Class imbalance 대응 → class_weights\n",
        "\n",
        "---\n",
        "\n",
        "## 3) 어떻게 문제에 접근했는지\n",
        "1. **EDA**: 타깃 분포 시각화, 주요 변수 탐색\n",
        "2. **전처리**: ID 제거, 결측치 확인, 범주형 컬럼 지정\n",
        "3. **CatBoost 학습**: Pool 객체로 학습/검증 세트 정의\n",
        "4. **모델 평가**: Accuracy, F1, ROC-AUC, Confusion Matrix\n",
        "5. **Feature Importance 분석**: CatBoost 내장 기능 활용\n",
        "\n",
        "---\n",
        "\n",
        "## 4) 코드 흐름\n",
        "- **EDA**: `seaborn` 히스토그램, countplot → 분포 확인\n",
        "- **전처리**: 범주형 변수 리스트 자동 추출 → CatBoost에 전달\n",
        "- **모델링**: CatBoostClassifier, early stopping 적용\n",
        "- **평가/시각화**: confusion matrix, ROC curve, feature importance plot\n",
        "\n",
        "---\n",
        "\n",
        "## 5) 차별점 및 배울 점\n",
        "- **One-hot 인코딩 불필요**: CatBoost의 고유 장점\n",
        "- **결측치 자동 처리** → 별도 imputation 단계가 단순화됨\n",
        "- **불균형 데이터 처리**: class_weights로 대응\n",
        "- **XGBoost/LightGBM과 비교** 시, CatBoost는 범주형 처리와 튜닝 난이도에서 우위\n",
        "- **Ordered Boosting (순차적 학습 방식)**\n",
        "일반 GBDT는 데이터 섞는 순서에 따라 target leakage가 발생 가능.  CatBoost는 “Ordered Boosting” 기법을 사용 → 데이터 순서를 고려해 학습하면서 과적합을 방지. 덕분에 기본 하이퍼파라미터로도 안정적인 성능을 내는 경우가 많음"
      ],
      "metadata": {
        "id": "mqsMrxGzaKLq"
      }
    },
    {
      "cell_type": "code",
      "source": [],
      "metadata": {
        "id": "gkMdEB0RagmL"
      },
      "execution_count": null,
      "outputs": []
    }
  ]
}