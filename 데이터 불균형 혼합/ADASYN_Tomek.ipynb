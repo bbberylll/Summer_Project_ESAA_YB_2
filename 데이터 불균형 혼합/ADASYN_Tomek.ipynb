{
  "nbformat": 4,
  "nbformat_minor": 0,
  "metadata": {
    "colab": {
      "provenance": []
    },
    "kernelspec": {
      "name": "python3",
      "display_name": "Python 3"
    },
    "language_info": {
      "name": "python"
    }
  },
  "cells": [
    {
      "cell_type": "markdown",
      "source": [
        "## X, Y 데이터 분리"
      ],
      "metadata": {
        "id": "ZmFD_dmNP-Dx"
      }
    },
    {
      "cell_type": "code",
      "source": [
        "# Features\n",
        "X = train.drop('attack_type',axis=1)\n",
        "\n",
        "# Target\n",
        "y = train['attack_type'].values"
      ],
      "metadata": {
        "id": "-GB--Uv0QGVy"
      },
      "execution_count": null,
      "outputs": []
    },
    {
      "cell_type": "code",
      "source": [
        "from sklearn.model_selection import train_test_split\n",
        "\n",
        "X_train, X_val, y_train, y_val = train_test_split(X, y, test_size=0.2, random_state=156)"
      ],
      "metadata": {
        "id": "ozGU_-HR7Sp5"
      },
      "execution_count": null,
      "outputs": []
    },
    {
      "cell_type": "markdown",
      "source": [
        "## ADASYN + TomekLinks"
      ],
      "metadata": {
        "id": "XPZxWCzl3w8E"
      }
    },
    {
      "cell_type": "code",
      "source": [
        "# ADASYN + TomekLinks 불균형 처리\n",
        "counter = Counter(y_train)\n",
        "upper_target = 700\n",
        "min_limit = 50\n",
        "very_low_target = 100\n",
        "\n",
        "sampling_strategy = {}\n",
        "for label, count in counter.items():\n",
        "    if count < min_limit:\n",
        "        sampling_strategy[label] = very_low_target\n",
        "    elif count < upper_target:\n",
        "        sampling_strategy[label] = upper_target\n",
        "\n",
        "print(\"sampling_strategy:\", sampling_strategy)\n",
        "\n",
        "# 1. ADASYN\n",
        "adasyn = ADASYN(sampling_strategy=sampling_strategy, n_neighbors=1, random_state=156)\n",
        "X_ada, y_ada = adasyn.fit_resample(X_train, y_train)\n",
        "\n",
        "# 2. TomekLinks\n",
        "tomek = TomekLinks()\n",
        "X_resampled, y_resampled = tomek.fit_resample(X_ada, y_ada)\n",
        "\n",
        "print(\"Resampled class distribution:\", Counter(y_resampled))"
      ],
      "metadata": {
        "id": "36NKE4d83yUa"
      },
      "execution_count": null,
      "outputs": []
    }
  ]
}