{
  "nbformat": 4,
  "nbformat_minor": 0,
  "metadata": {
    "colab": {
      "provenance": []
    },
    "kernelspec": {
      "name": "python3",
      "display_name": "Python 3"
    },
    "language_info": {
      "name": "python"
    }
  },
  "cells": [
    {
      "cell_type": "markdown",
      "source": [
        "##**DATA LOAD**"
      ],
      "metadata": {
        "id": "vFykZLyN_9Nc"
      }
    },
    {
      "cell_type": "code",
      "source": [
        "import numpy as np\n",
        "import pandas as pd\n",
        "import matplotlib.pyplot as plt\n",
        "import matplotlib\n",
        "import warnings\n",
        "\n",
        "warnings.filterwarnings('ignore')"
      ],
      "metadata": {
        "id": "JljHRRIOdv1P"
      },
      "execution_count": null,
      "outputs": []
    },
    {
      "cell_type": "code",
      "source": [
        "from google.colab import drive\n",
        "drive.mount('/content/drive')"
      ],
      "metadata": {
        "colab": {
          "base_uri": "https://localhost:8080/"
        },
        "id": "M1n9gTqMWSTF",
        "outputId": "13782239-06cf-49dc-804b-027324d5d613"
      },
      "execution_count": null,
      "outputs": [
        {
          "output_type": "stream",
          "name": "stdout",
          "text": [
            "Mounted at /content/drive\n"
          ]
        }
      ]
    },
    {
      "cell_type": "code",
      "source": [
        "train_df = pd.read_csv('/content/drive/MyDrive/Colab Notebooks/0_Summer_project/train.csv')\n",
        "test_df = pd.read_csv('/content/drive/MyDrive/Colab Notebooks/0_Summer_project/test.csv')"
      ],
      "metadata": {
        "id": "kADogme9WVZc"
      },
      "execution_count": null,
      "outputs": []
    },
    {
      "cell_type": "code",
      "source": [
        "train_df.head()"
      ],
      "metadata": {
        "colab": {
          "base_uri": "https://localhost:8080/",
          "height": 255
        },
        "id": "QdVUmeqLd1LZ",
        "outputId": "9730db40-237f-4b52-fb7f-3d5524a944ec"
      },
      "execution_count": null,
      "outputs": [
        {
          "output_type": "execute_result",
          "data": {
            "text/plain": [
              "            ID         ip_src  port_src          ip_dst  port_dst protocol  \\\n",
              "0  TRAIN_00000  192.168.10.18    3721.0  192.168.10.243      55.0      UDP   \n",
              "1  TRAIN_00001   192.168.10.5       NaN             NaN      91.0      TCP   \n",
              "2  TRAIN_00002   172.16.0.182       NaN   192.168.10.18      83.0      TCP   \n",
              "3  TRAIN_00003            NaN   47668.0   192.168.10.18       NaN      TCP   \n",
              "4  TRAIN_00004   192.168.10.5   51753.0   151.101.2.116     451.0      TCP   \n",
              "\n",
              "     duration  pkt_count_fwd  pkt_count_bwd  rate_fwd_pkts  ...  \\\n",
              "0    0.000231              2              2    8656.974200  ...   \n",
              "1    0.000000              0              1       0.000000  ...   \n",
              "2    0.606002             11              5      18.151760  ...   \n",
              "3    1.003829              6              6       5.977114  ...   \n",
              "4  181.195271             62             89            NaN  ...   \n",
              "\n",
              "   rate_bwd_bytes  payload_fwd_mean  payload_bwd_mean  tcp_win_fwd_init  \\\n",
              "0    1.142721e+06         81.000000         81.000000                 0   \n",
              "1    0.000000e+00          0.000000          0.000000                 0   \n",
              "2    1.913360e+04        790.125000        790.125000             29200   \n",
              "3    1.155077e+04        993.416667        993.416667             29200   \n",
              "4    6.896758e+02               NaN               NaN              8192   \n",
              "\n",
              "   tcp_win_bwd_init  tcp_syn_count  tcp_psh_count  tcp_rst_count  \\\n",
              "0                 0              0              0              0   \n",
              "1             16392              0              0              0   \n",
              "2             28960              2              4              1   \n",
              "3             28960              3              2              0   \n",
              "4             29200              2             22              0   \n",
              "\n",
              "   iat_avg_packets  attack_type  \n",
              "0              NaN       Benign  \n",
              "1     1.499097e+09       Benign  \n",
              "2     4.040012e-02         Hulk  \n",
              "3     9.125718e-02         Hulk  \n",
              "4              NaN       Benign  \n",
              "\n",
              "[5 rows x 22 columns]"
            ],
            "text/html": [
              "\n",
              "  <div id=\"df-5f179d73-d001-4562-90d2-a2c46089d825\" class=\"colab-df-container\">\n",
              "    <div>\n",
              "<style scoped>\n",
              "    .dataframe tbody tr th:only-of-type {\n",
              "        vertical-align: middle;\n",
              "    }\n",
              "\n",
              "    .dataframe tbody tr th {\n",
              "        vertical-align: top;\n",
              "    }\n",
              "\n",
              "    .dataframe thead th {\n",
              "        text-align: right;\n",
              "    }\n",
              "</style>\n",
              "<table border=\"1\" class=\"dataframe\">\n",
              "  <thead>\n",
              "    <tr style=\"text-align: right;\">\n",
              "      <th></th>\n",
              "      <th>ID</th>\n",
              "      <th>ip_src</th>\n",
              "      <th>port_src</th>\n",
              "      <th>ip_dst</th>\n",
              "      <th>port_dst</th>\n",
              "      <th>protocol</th>\n",
              "      <th>duration</th>\n",
              "      <th>pkt_count_fwd</th>\n",
              "      <th>pkt_count_bwd</th>\n",
              "      <th>rate_fwd_pkts</th>\n",
              "      <th>...</th>\n",
              "      <th>rate_bwd_bytes</th>\n",
              "      <th>payload_fwd_mean</th>\n",
              "      <th>payload_bwd_mean</th>\n",
              "      <th>tcp_win_fwd_init</th>\n",
              "      <th>tcp_win_bwd_init</th>\n",
              "      <th>tcp_syn_count</th>\n",
              "      <th>tcp_psh_count</th>\n",
              "      <th>tcp_rst_count</th>\n",
              "      <th>iat_avg_packets</th>\n",
              "      <th>attack_type</th>\n",
              "    </tr>\n",
              "  </thead>\n",
              "  <tbody>\n",
              "    <tr>\n",
              "      <th>0</th>\n",
              "      <td>TRAIN_00000</td>\n",
              "      <td>192.168.10.18</td>\n",
              "      <td>3721.0</td>\n",
              "      <td>192.168.10.243</td>\n",
              "      <td>55.0</td>\n",
              "      <td>UDP</td>\n",
              "      <td>0.000231</td>\n",
              "      <td>2</td>\n",
              "      <td>2</td>\n",
              "      <td>8656.974200</td>\n",
              "      <td>...</td>\n",
              "      <td>1.142721e+06</td>\n",
              "      <td>81.000000</td>\n",
              "      <td>81.000000</td>\n",
              "      <td>0</td>\n",
              "      <td>0</td>\n",
              "      <td>0</td>\n",
              "      <td>0</td>\n",
              "      <td>0</td>\n",
              "      <td>NaN</td>\n",
              "      <td>Benign</td>\n",
              "    </tr>\n",
              "    <tr>\n",
              "      <th>1</th>\n",
              "      <td>TRAIN_00001</td>\n",
              "      <td>192.168.10.5</td>\n",
              "      <td>NaN</td>\n",
              "      <td>NaN</td>\n",
              "      <td>91.0</td>\n",
              "      <td>TCP</td>\n",
              "      <td>0.000000</td>\n",
              "      <td>0</td>\n",
              "      <td>1</td>\n",
              "      <td>0.000000</td>\n",
              "      <td>...</td>\n",
              "      <td>0.000000e+00</td>\n",
              "      <td>0.000000</td>\n",
              "      <td>0.000000</td>\n",
              "      <td>0</td>\n",
              "      <td>16392</td>\n",
              "      <td>0</td>\n",
              "      <td>0</td>\n",
              "      <td>0</td>\n",
              "      <td>1.499097e+09</td>\n",
              "      <td>Benign</td>\n",
              "    </tr>\n",
              "    <tr>\n",
              "      <th>2</th>\n",
              "      <td>TRAIN_00002</td>\n",
              "      <td>172.16.0.182</td>\n",
              "      <td>NaN</td>\n",
              "      <td>192.168.10.18</td>\n",
              "      <td>83.0</td>\n",
              "      <td>TCP</td>\n",
              "      <td>0.606002</td>\n",
              "      <td>11</td>\n",
              "      <td>5</td>\n",
              "      <td>18.151760</td>\n",
              "      <td>...</td>\n",
              "      <td>1.913360e+04</td>\n",
              "      <td>790.125000</td>\n",
              "      <td>790.125000</td>\n",
              "      <td>29200</td>\n",
              "      <td>28960</td>\n",
              "      <td>2</td>\n",
              "      <td>4</td>\n",
              "      <td>1</td>\n",
              "      <td>4.040012e-02</td>\n",
              "      <td>Hulk</td>\n",
              "    </tr>\n",
              "    <tr>\n",
              "      <th>3</th>\n",
              "      <td>TRAIN_00003</td>\n",
              "      <td>NaN</td>\n",
              "      <td>47668.0</td>\n",
              "      <td>192.168.10.18</td>\n",
              "      <td>NaN</td>\n",
              "      <td>TCP</td>\n",
              "      <td>1.003829</td>\n",
              "      <td>6</td>\n",
              "      <td>6</td>\n",
              "      <td>5.977114</td>\n",
              "      <td>...</td>\n",
              "      <td>1.155077e+04</td>\n",
              "      <td>993.416667</td>\n",
              "      <td>993.416667</td>\n",
              "      <td>29200</td>\n",
              "      <td>28960</td>\n",
              "      <td>3</td>\n",
              "      <td>2</td>\n",
              "      <td>0</td>\n",
              "      <td>9.125718e-02</td>\n",
              "      <td>Hulk</td>\n",
              "    </tr>\n",
              "    <tr>\n",
              "      <th>4</th>\n",
              "      <td>TRAIN_00004</td>\n",
              "      <td>192.168.10.5</td>\n",
              "      <td>51753.0</td>\n",
              "      <td>151.101.2.116</td>\n",
              "      <td>451.0</td>\n",
              "      <td>TCP</td>\n",
              "      <td>181.195271</td>\n",
              "      <td>62</td>\n",
              "      <td>89</td>\n",
              "      <td>NaN</td>\n",
              "      <td>...</td>\n",
              "      <td>6.896758e+02</td>\n",
              "      <td>NaN</td>\n",
              "      <td>NaN</td>\n",
              "      <td>8192</td>\n",
              "      <td>29200</td>\n",
              "      <td>2</td>\n",
              "      <td>22</td>\n",
              "      <td>0</td>\n",
              "      <td>NaN</td>\n",
              "      <td>Benign</td>\n",
              "    </tr>\n",
              "  </tbody>\n",
              "</table>\n",
              "<p>5 rows × 22 columns</p>\n",
              "</div>\n",
              "    <div class=\"colab-df-buttons\">\n",
              "\n",
              "  <div class=\"colab-df-container\">\n",
              "    <button class=\"colab-df-convert\" onclick=\"convertToInteractive('df-5f179d73-d001-4562-90d2-a2c46089d825')\"\n",
              "            title=\"Convert this dataframe to an interactive table.\"\n",
              "            style=\"display:none;\">\n",
              "\n",
              "  <svg xmlns=\"http://www.w3.org/2000/svg\" height=\"24px\" viewBox=\"0 -960 960 960\">\n",
              "    <path d=\"M120-120v-720h720v720H120Zm60-500h600v-160H180v160Zm220 220h160v-160H400v160Zm0 220h160v-160H400v160ZM180-400h160v-160H180v160Zm440 0h160v-160H620v160ZM180-180h160v-160H180v160Zm440 0h160v-160H620v160Z\"/>\n",
              "  </svg>\n",
              "    </button>\n",
              "\n",
              "  <style>\n",
              "    .colab-df-container {\n",
              "      display:flex;\n",
              "      gap: 12px;\n",
              "    }\n",
              "\n",
              "    .colab-df-convert {\n",
              "      background-color: #E8F0FE;\n",
              "      border: none;\n",
              "      border-radius: 50%;\n",
              "      cursor: pointer;\n",
              "      display: none;\n",
              "      fill: #1967D2;\n",
              "      height: 32px;\n",
              "      padding: 0 0 0 0;\n",
              "      width: 32px;\n",
              "    }\n",
              "\n",
              "    .colab-df-convert:hover {\n",
              "      background-color: #E2EBFA;\n",
              "      box-shadow: 0px 1px 2px rgba(60, 64, 67, 0.3), 0px 1px 3px 1px rgba(60, 64, 67, 0.15);\n",
              "      fill: #174EA6;\n",
              "    }\n",
              "\n",
              "    .colab-df-buttons div {\n",
              "      margin-bottom: 4px;\n",
              "    }\n",
              "\n",
              "    [theme=dark] .colab-df-convert {\n",
              "      background-color: #3B4455;\n",
              "      fill: #D2E3FC;\n",
              "    }\n",
              "\n",
              "    [theme=dark] .colab-df-convert:hover {\n",
              "      background-color: #434B5C;\n",
              "      box-shadow: 0px 1px 3px 1px rgba(0, 0, 0, 0.15);\n",
              "      filter: drop-shadow(0px 1px 2px rgba(0, 0, 0, 0.3));\n",
              "      fill: #FFFFFF;\n",
              "    }\n",
              "  </style>\n",
              "\n",
              "    <script>\n",
              "      const buttonEl =\n",
              "        document.querySelector('#df-5f179d73-d001-4562-90d2-a2c46089d825 button.colab-df-convert');\n",
              "      buttonEl.style.display =\n",
              "        google.colab.kernel.accessAllowed ? 'block' : 'none';\n",
              "\n",
              "      async function convertToInteractive(key) {\n",
              "        const element = document.querySelector('#df-5f179d73-d001-4562-90d2-a2c46089d825');\n",
              "        const dataTable =\n",
              "          await google.colab.kernel.invokeFunction('convertToInteractive',\n",
              "                                                    [key], {});\n",
              "        if (!dataTable) return;\n",
              "\n",
              "        const docLinkHtml = 'Like what you see? Visit the ' +\n",
              "          '<a target=\"_blank\" href=https://colab.research.google.com/notebooks/data_table.ipynb>data table notebook</a>'\n",
              "          + ' to learn more about interactive tables.';\n",
              "        element.innerHTML = '';\n",
              "        dataTable['output_type'] = 'display_data';\n",
              "        await google.colab.output.renderOutput(dataTable, element);\n",
              "        const docLink = document.createElement('div');\n",
              "        docLink.innerHTML = docLinkHtml;\n",
              "        element.appendChild(docLink);\n",
              "      }\n",
              "    </script>\n",
              "  </div>\n",
              "\n",
              "\n",
              "    <div id=\"df-29c038e1-7d91-4c1c-8564-51996346f4b6\">\n",
              "      <button class=\"colab-df-quickchart\" onclick=\"quickchart('df-29c038e1-7d91-4c1c-8564-51996346f4b6')\"\n",
              "                title=\"Suggest charts\"\n",
              "                style=\"display:none;\">\n",
              "\n",
              "<svg xmlns=\"http://www.w3.org/2000/svg\" height=\"24px\"viewBox=\"0 0 24 24\"\n",
              "     width=\"24px\">\n",
              "    <g>\n",
              "        <path d=\"M19 3H5c-1.1 0-2 .9-2 2v14c0 1.1.9 2 2 2h14c1.1 0 2-.9 2-2V5c0-1.1-.9-2-2-2zM9 17H7v-7h2v7zm4 0h-2V7h2v10zm4 0h-2v-4h2v4z\"/>\n",
              "    </g>\n",
              "</svg>\n",
              "      </button>\n",
              "\n",
              "<style>\n",
              "  .colab-df-quickchart {\n",
              "      --bg-color: #E8F0FE;\n",
              "      --fill-color: #1967D2;\n",
              "      --hover-bg-color: #E2EBFA;\n",
              "      --hover-fill-color: #174EA6;\n",
              "      --disabled-fill-color: #AAA;\n",
              "      --disabled-bg-color: #DDD;\n",
              "  }\n",
              "\n",
              "  [theme=dark] .colab-df-quickchart {\n",
              "      --bg-color: #3B4455;\n",
              "      --fill-color: #D2E3FC;\n",
              "      --hover-bg-color: #434B5C;\n",
              "      --hover-fill-color: #FFFFFF;\n",
              "      --disabled-bg-color: #3B4455;\n",
              "      --disabled-fill-color: #666;\n",
              "  }\n",
              "\n",
              "  .colab-df-quickchart {\n",
              "    background-color: var(--bg-color);\n",
              "    border: none;\n",
              "    border-radius: 50%;\n",
              "    cursor: pointer;\n",
              "    display: none;\n",
              "    fill: var(--fill-color);\n",
              "    height: 32px;\n",
              "    padding: 0;\n",
              "    width: 32px;\n",
              "  }\n",
              "\n",
              "  .colab-df-quickchart:hover {\n",
              "    background-color: var(--hover-bg-color);\n",
              "    box-shadow: 0 1px 2px rgba(60, 64, 67, 0.3), 0 1px 3px 1px rgba(60, 64, 67, 0.15);\n",
              "    fill: var(--button-hover-fill-color);\n",
              "  }\n",
              "\n",
              "  .colab-df-quickchart-complete:disabled,\n",
              "  .colab-df-quickchart-complete:disabled:hover {\n",
              "    background-color: var(--disabled-bg-color);\n",
              "    fill: var(--disabled-fill-color);\n",
              "    box-shadow: none;\n",
              "  }\n",
              "\n",
              "  .colab-df-spinner {\n",
              "    border: 2px solid var(--fill-color);\n",
              "    border-color: transparent;\n",
              "    border-bottom-color: var(--fill-color);\n",
              "    animation:\n",
              "      spin 1s steps(1) infinite;\n",
              "  }\n",
              "\n",
              "  @keyframes spin {\n",
              "    0% {\n",
              "      border-color: transparent;\n",
              "      border-bottom-color: var(--fill-color);\n",
              "      border-left-color: var(--fill-color);\n",
              "    }\n",
              "    20% {\n",
              "      border-color: transparent;\n",
              "      border-left-color: var(--fill-color);\n",
              "      border-top-color: var(--fill-color);\n",
              "    }\n",
              "    30% {\n",
              "      border-color: transparent;\n",
              "      border-left-color: var(--fill-color);\n",
              "      border-top-color: var(--fill-color);\n",
              "      border-right-color: var(--fill-color);\n",
              "    }\n",
              "    40% {\n",
              "      border-color: transparent;\n",
              "      border-right-color: var(--fill-color);\n",
              "      border-top-color: var(--fill-color);\n",
              "    }\n",
              "    60% {\n",
              "      border-color: transparent;\n",
              "      border-right-color: var(--fill-color);\n",
              "    }\n",
              "    80% {\n",
              "      border-color: transparent;\n",
              "      border-right-color: var(--fill-color);\n",
              "      border-bottom-color: var(--fill-color);\n",
              "    }\n",
              "    90% {\n",
              "      border-color: transparent;\n",
              "      border-bottom-color: var(--fill-color);\n",
              "    }\n",
              "  }\n",
              "</style>\n",
              "\n",
              "      <script>\n",
              "        async function quickchart(key) {\n",
              "          const quickchartButtonEl =\n",
              "            document.querySelector('#' + key + ' button');\n",
              "          quickchartButtonEl.disabled = true;  // To prevent multiple clicks.\n",
              "          quickchartButtonEl.classList.add('colab-df-spinner');\n",
              "          try {\n",
              "            const charts = await google.colab.kernel.invokeFunction(\n",
              "                'suggestCharts', [key], {});\n",
              "          } catch (error) {\n",
              "            console.error('Error during call to suggestCharts:', error);\n",
              "          }\n",
              "          quickchartButtonEl.classList.remove('colab-df-spinner');\n",
              "          quickchartButtonEl.classList.add('colab-df-quickchart-complete');\n",
              "        }\n",
              "        (() => {\n",
              "          let quickchartButtonEl =\n",
              "            document.querySelector('#df-29c038e1-7d91-4c1c-8564-51996346f4b6 button');\n",
              "          quickchartButtonEl.style.display =\n",
              "            google.colab.kernel.accessAllowed ? 'block' : 'none';\n",
              "        })();\n",
              "      </script>\n",
              "    </div>\n",
              "\n",
              "    </div>\n",
              "  </div>\n"
            ],
            "application/vnd.google.colaboratory.intrinsic+json": {
              "type": "dataframe",
              "variable_name": "train_df"
            }
          },
          "metadata": {},
          "execution_count": 4
        }
      ]
    },
    {
      "cell_type": "code",
      "source": [
        "test_df.head()"
      ],
      "metadata": {
        "colab": {
          "base_uri": "https://localhost:8080/",
          "height": 255
        },
        "id": "NPG7hafQCT2w",
        "outputId": "386adcd3-3b4a-420e-daad-bf93a0721083"
      },
      "execution_count": null,
      "outputs": [
        {
          "output_type": "execute_result",
          "data": {
            "text/plain": [
              "          ID          ip_src  port_src          ip_dst  port_dst protocol  \\\n",
              "0  TEST_0000  192.168.10.243   61955.0  192.168.10.249      55.0      UDP   \n",
              "1  TEST_0001             NaN   53118.0             NaN    2094.0      TCP   \n",
              "2  TEST_0002   192.168.10.43       NaN             NaN      51.0      UDP   \n",
              "3  TEST_0003  192.168.10.243   62431.0  192.168.10.249      61.0      UDP   \n",
              "4  TEST_0004             NaN   62365.0  192.168.10.249      56.0      UDP   \n",
              "\n",
              "     duration  pkt_count_fwd  pkt_count_bwd  rate_fwd_pkts  ...  \\\n",
              "0  351.844741              3              3            NaN  ...   \n",
              "1    0.000063              1              1   15887.515152  ...   \n",
              "2    0.060045              2              2      33.308350  ...   \n",
              "3         NaN              2              2       0.008455  ...   \n",
              "4    0.095316              1              1      10.491425  ...   \n",
              "\n",
              "   rate_fwd_bytes  rate_bwd_bytes  payload_fwd_mean  payload_bwd_mean  \\\n",
              "0        0.409271        0.719067               NaN               NaN   \n",
              "1        0.000000        0.000000              0.00              0.00   \n",
              "2     1299.025647     2231.659444             53.00             53.00   \n",
              "3        0.384714        0.930079             77.75             77.75   \n",
              "4      482.605567     1363.885298             88.00             88.00   \n",
              "\n",
              "   tcp_win_fwd_init  tcp_win_bwd_init  tcp_syn_count  tcp_psh_count  \\\n",
              "0                 0                 0              0              0   \n",
              "1             29200                 0              1              0   \n",
              "2                 0                 0              0              0   \n",
              "3                 0                 0              0              0   \n",
              "4                 0                 0              0              0   \n",
              "\n",
              "   tcp_rst_count  iat_avg_packets  \n",
              "0              0              NaN  \n",
              "1              1              NaN  \n",
              "2              0         0.020015  \n",
              "3              0        78.846374  \n",
              "4              0              NaN  \n",
              "\n",
              "[5 rows x 21 columns]"
            ],
            "text/html": [
              "\n",
              "  <div id=\"df-81831fa5-9201-4ae0-9a31-04a46d06fc8b\" class=\"colab-df-container\">\n",
              "    <div>\n",
              "<style scoped>\n",
              "    .dataframe tbody tr th:only-of-type {\n",
              "        vertical-align: middle;\n",
              "    }\n",
              "\n",
              "    .dataframe tbody tr th {\n",
              "        vertical-align: top;\n",
              "    }\n",
              "\n",
              "    .dataframe thead th {\n",
              "        text-align: right;\n",
              "    }\n",
              "</style>\n",
              "<table border=\"1\" class=\"dataframe\">\n",
              "  <thead>\n",
              "    <tr style=\"text-align: right;\">\n",
              "      <th></th>\n",
              "      <th>ID</th>\n",
              "      <th>ip_src</th>\n",
              "      <th>port_src</th>\n",
              "      <th>ip_dst</th>\n",
              "      <th>port_dst</th>\n",
              "      <th>protocol</th>\n",
              "      <th>duration</th>\n",
              "      <th>pkt_count_fwd</th>\n",
              "      <th>pkt_count_bwd</th>\n",
              "      <th>rate_fwd_pkts</th>\n",
              "      <th>...</th>\n",
              "      <th>rate_fwd_bytes</th>\n",
              "      <th>rate_bwd_bytes</th>\n",
              "      <th>payload_fwd_mean</th>\n",
              "      <th>payload_bwd_mean</th>\n",
              "      <th>tcp_win_fwd_init</th>\n",
              "      <th>tcp_win_bwd_init</th>\n",
              "      <th>tcp_syn_count</th>\n",
              "      <th>tcp_psh_count</th>\n",
              "      <th>tcp_rst_count</th>\n",
              "      <th>iat_avg_packets</th>\n",
              "    </tr>\n",
              "  </thead>\n",
              "  <tbody>\n",
              "    <tr>\n",
              "      <th>0</th>\n",
              "      <td>TEST_0000</td>\n",
              "      <td>192.168.10.243</td>\n",
              "      <td>61955.0</td>\n",
              "      <td>192.168.10.249</td>\n",
              "      <td>55.0</td>\n",
              "      <td>UDP</td>\n",
              "      <td>351.844741</td>\n",
              "      <td>3</td>\n",
              "      <td>3</td>\n",
              "      <td>NaN</td>\n",
              "      <td>...</td>\n",
              "      <td>0.409271</td>\n",
              "      <td>0.719067</td>\n",
              "      <td>NaN</td>\n",
              "      <td>NaN</td>\n",
              "      <td>0</td>\n",
              "      <td>0</td>\n",
              "      <td>0</td>\n",
              "      <td>0</td>\n",
              "      <td>0</td>\n",
              "      <td>NaN</td>\n",
              "    </tr>\n",
              "    <tr>\n",
              "      <th>1</th>\n",
              "      <td>TEST_0001</td>\n",
              "      <td>NaN</td>\n",
              "      <td>53118.0</td>\n",
              "      <td>NaN</td>\n",
              "      <td>2094.0</td>\n",
              "      <td>TCP</td>\n",
              "      <td>0.000063</td>\n",
              "      <td>1</td>\n",
              "      <td>1</td>\n",
              "      <td>15887.515152</td>\n",
              "      <td>...</td>\n",
              "      <td>0.000000</td>\n",
              "      <td>0.000000</td>\n",
              "      <td>0.00</td>\n",
              "      <td>0.00</td>\n",
              "      <td>29200</td>\n",
              "      <td>0</td>\n",
              "      <td>1</td>\n",
              "      <td>0</td>\n",
              "      <td>1</td>\n",
              "      <td>NaN</td>\n",
              "    </tr>\n",
              "    <tr>\n",
              "      <th>2</th>\n",
              "      <td>TEST_0002</td>\n",
              "      <td>192.168.10.43</td>\n",
              "      <td>NaN</td>\n",
              "      <td>NaN</td>\n",
              "      <td>51.0</td>\n",
              "      <td>UDP</td>\n",
              "      <td>0.060045</td>\n",
              "      <td>2</td>\n",
              "      <td>2</td>\n",
              "      <td>33.308350</td>\n",
              "      <td>...</td>\n",
              "      <td>1299.025647</td>\n",
              "      <td>2231.659444</td>\n",
              "      <td>53.00</td>\n",
              "      <td>53.00</td>\n",
              "      <td>0</td>\n",
              "      <td>0</td>\n",
              "      <td>0</td>\n",
              "      <td>0</td>\n",
              "      <td>0</td>\n",
              "      <td>0.020015</td>\n",
              "    </tr>\n",
              "    <tr>\n",
              "      <th>3</th>\n",
              "      <td>TEST_0003</td>\n",
              "      <td>192.168.10.243</td>\n",
              "      <td>62431.0</td>\n",
              "      <td>192.168.10.249</td>\n",
              "      <td>61.0</td>\n",
              "      <td>UDP</td>\n",
              "      <td>NaN</td>\n",
              "      <td>2</td>\n",
              "      <td>2</td>\n",
              "      <td>0.008455</td>\n",
              "      <td>...</td>\n",
              "      <td>0.384714</td>\n",
              "      <td>0.930079</td>\n",
              "      <td>77.75</td>\n",
              "      <td>77.75</td>\n",
              "      <td>0</td>\n",
              "      <td>0</td>\n",
              "      <td>0</td>\n",
              "      <td>0</td>\n",
              "      <td>0</td>\n",
              "      <td>78.846374</td>\n",
              "    </tr>\n",
              "    <tr>\n",
              "      <th>4</th>\n",
              "      <td>TEST_0004</td>\n",
              "      <td>NaN</td>\n",
              "      <td>62365.0</td>\n",
              "      <td>192.168.10.249</td>\n",
              "      <td>56.0</td>\n",
              "      <td>UDP</td>\n",
              "      <td>0.095316</td>\n",
              "      <td>1</td>\n",
              "      <td>1</td>\n",
              "      <td>10.491425</td>\n",
              "      <td>...</td>\n",
              "      <td>482.605567</td>\n",
              "      <td>1363.885298</td>\n",
              "      <td>88.00</td>\n",
              "      <td>88.00</td>\n",
              "      <td>0</td>\n",
              "      <td>0</td>\n",
              "      <td>0</td>\n",
              "      <td>0</td>\n",
              "      <td>0</td>\n",
              "      <td>NaN</td>\n",
              "    </tr>\n",
              "  </tbody>\n",
              "</table>\n",
              "<p>5 rows × 21 columns</p>\n",
              "</div>\n",
              "    <div class=\"colab-df-buttons\">\n",
              "\n",
              "  <div class=\"colab-df-container\">\n",
              "    <button class=\"colab-df-convert\" onclick=\"convertToInteractive('df-81831fa5-9201-4ae0-9a31-04a46d06fc8b')\"\n",
              "            title=\"Convert this dataframe to an interactive table.\"\n",
              "            style=\"display:none;\">\n",
              "\n",
              "  <svg xmlns=\"http://www.w3.org/2000/svg\" height=\"24px\" viewBox=\"0 -960 960 960\">\n",
              "    <path d=\"M120-120v-720h720v720H120Zm60-500h600v-160H180v160Zm220 220h160v-160H400v160Zm0 220h160v-160H400v160ZM180-400h160v-160H180v160Zm440 0h160v-160H620v160ZM180-180h160v-160H180v160Zm440 0h160v-160H620v160Z\"/>\n",
              "  </svg>\n",
              "    </button>\n",
              "\n",
              "  <style>\n",
              "    .colab-df-container {\n",
              "      display:flex;\n",
              "      gap: 12px;\n",
              "    }\n",
              "\n",
              "    .colab-df-convert {\n",
              "      background-color: #E8F0FE;\n",
              "      border: none;\n",
              "      border-radius: 50%;\n",
              "      cursor: pointer;\n",
              "      display: none;\n",
              "      fill: #1967D2;\n",
              "      height: 32px;\n",
              "      padding: 0 0 0 0;\n",
              "      width: 32px;\n",
              "    }\n",
              "\n",
              "    .colab-df-convert:hover {\n",
              "      background-color: #E2EBFA;\n",
              "      box-shadow: 0px 1px 2px rgba(60, 64, 67, 0.3), 0px 1px 3px 1px rgba(60, 64, 67, 0.15);\n",
              "      fill: #174EA6;\n",
              "    }\n",
              "\n",
              "    .colab-df-buttons div {\n",
              "      margin-bottom: 4px;\n",
              "    }\n",
              "\n",
              "    [theme=dark] .colab-df-convert {\n",
              "      background-color: #3B4455;\n",
              "      fill: #D2E3FC;\n",
              "    }\n",
              "\n",
              "    [theme=dark] .colab-df-convert:hover {\n",
              "      background-color: #434B5C;\n",
              "      box-shadow: 0px 1px 3px 1px rgba(0, 0, 0, 0.15);\n",
              "      filter: drop-shadow(0px 1px 2px rgba(0, 0, 0, 0.3));\n",
              "      fill: #FFFFFF;\n",
              "    }\n",
              "  </style>\n",
              "\n",
              "    <script>\n",
              "      const buttonEl =\n",
              "        document.querySelector('#df-81831fa5-9201-4ae0-9a31-04a46d06fc8b button.colab-df-convert');\n",
              "      buttonEl.style.display =\n",
              "        google.colab.kernel.accessAllowed ? 'block' : 'none';\n",
              "\n",
              "      async function convertToInteractive(key) {\n",
              "        const element = document.querySelector('#df-81831fa5-9201-4ae0-9a31-04a46d06fc8b');\n",
              "        const dataTable =\n",
              "          await google.colab.kernel.invokeFunction('convertToInteractive',\n",
              "                                                    [key], {});\n",
              "        if (!dataTable) return;\n",
              "\n",
              "        const docLinkHtml = 'Like what you see? Visit the ' +\n",
              "          '<a target=\"_blank\" href=https://colab.research.google.com/notebooks/data_table.ipynb>data table notebook</a>'\n",
              "          + ' to learn more about interactive tables.';\n",
              "        element.innerHTML = '';\n",
              "        dataTable['output_type'] = 'display_data';\n",
              "        await google.colab.output.renderOutput(dataTable, element);\n",
              "        const docLink = document.createElement('div');\n",
              "        docLink.innerHTML = docLinkHtml;\n",
              "        element.appendChild(docLink);\n",
              "      }\n",
              "    </script>\n",
              "  </div>\n",
              "\n",
              "\n",
              "    <div id=\"df-0734fd40-005a-4906-a919-65b39662ffde\">\n",
              "      <button class=\"colab-df-quickchart\" onclick=\"quickchart('df-0734fd40-005a-4906-a919-65b39662ffde')\"\n",
              "                title=\"Suggest charts\"\n",
              "                style=\"display:none;\">\n",
              "\n",
              "<svg xmlns=\"http://www.w3.org/2000/svg\" height=\"24px\"viewBox=\"0 0 24 24\"\n",
              "     width=\"24px\">\n",
              "    <g>\n",
              "        <path d=\"M19 3H5c-1.1 0-2 .9-2 2v14c0 1.1.9 2 2 2h14c1.1 0 2-.9 2-2V5c0-1.1-.9-2-2-2zM9 17H7v-7h2v7zm4 0h-2V7h2v10zm4 0h-2v-4h2v4z\"/>\n",
              "    </g>\n",
              "</svg>\n",
              "      </button>\n",
              "\n",
              "<style>\n",
              "  .colab-df-quickchart {\n",
              "      --bg-color: #E8F0FE;\n",
              "      --fill-color: #1967D2;\n",
              "      --hover-bg-color: #E2EBFA;\n",
              "      --hover-fill-color: #174EA6;\n",
              "      --disabled-fill-color: #AAA;\n",
              "      --disabled-bg-color: #DDD;\n",
              "  }\n",
              "\n",
              "  [theme=dark] .colab-df-quickchart {\n",
              "      --bg-color: #3B4455;\n",
              "      --fill-color: #D2E3FC;\n",
              "      --hover-bg-color: #434B5C;\n",
              "      --hover-fill-color: #FFFFFF;\n",
              "      --disabled-bg-color: #3B4455;\n",
              "      --disabled-fill-color: #666;\n",
              "  }\n",
              "\n",
              "  .colab-df-quickchart {\n",
              "    background-color: var(--bg-color);\n",
              "    border: none;\n",
              "    border-radius: 50%;\n",
              "    cursor: pointer;\n",
              "    display: none;\n",
              "    fill: var(--fill-color);\n",
              "    height: 32px;\n",
              "    padding: 0;\n",
              "    width: 32px;\n",
              "  }\n",
              "\n",
              "  .colab-df-quickchart:hover {\n",
              "    background-color: var(--hover-bg-color);\n",
              "    box-shadow: 0 1px 2px rgba(60, 64, 67, 0.3), 0 1px 3px 1px rgba(60, 64, 67, 0.15);\n",
              "    fill: var(--button-hover-fill-color);\n",
              "  }\n",
              "\n",
              "  .colab-df-quickchart-complete:disabled,\n",
              "  .colab-df-quickchart-complete:disabled:hover {\n",
              "    background-color: var(--disabled-bg-color);\n",
              "    fill: var(--disabled-fill-color);\n",
              "    box-shadow: none;\n",
              "  }\n",
              "\n",
              "  .colab-df-spinner {\n",
              "    border: 2px solid var(--fill-color);\n",
              "    border-color: transparent;\n",
              "    border-bottom-color: var(--fill-color);\n",
              "    animation:\n",
              "      spin 1s steps(1) infinite;\n",
              "  }\n",
              "\n",
              "  @keyframes spin {\n",
              "    0% {\n",
              "      border-color: transparent;\n",
              "      border-bottom-color: var(--fill-color);\n",
              "      border-left-color: var(--fill-color);\n",
              "    }\n",
              "    20% {\n",
              "      border-color: transparent;\n",
              "      border-left-color: var(--fill-color);\n",
              "      border-top-color: var(--fill-color);\n",
              "    }\n",
              "    30% {\n",
              "      border-color: transparent;\n",
              "      border-left-color: var(--fill-color);\n",
              "      border-top-color: var(--fill-color);\n",
              "      border-right-color: var(--fill-color);\n",
              "    }\n",
              "    40% {\n",
              "      border-color: transparent;\n",
              "      border-right-color: var(--fill-color);\n",
              "      border-top-color: var(--fill-color);\n",
              "    }\n",
              "    60% {\n",
              "      border-color: transparent;\n",
              "      border-right-color: var(--fill-color);\n",
              "    }\n",
              "    80% {\n",
              "      border-color: transparent;\n",
              "      border-right-color: var(--fill-color);\n",
              "      border-bottom-color: var(--fill-color);\n",
              "    }\n",
              "    90% {\n",
              "      border-color: transparent;\n",
              "      border-bottom-color: var(--fill-color);\n",
              "    }\n",
              "  }\n",
              "</style>\n",
              "\n",
              "      <script>\n",
              "        async function quickchart(key) {\n",
              "          const quickchartButtonEl =\n",
              "            document.querySelector('#' + key + ' button');\n",
              "          quickchartButtonEl.disabled = true;  // To prevent multiple clicks.\n",
              "          quickchartButtonEl.classList.add('colab-df-spinner');\n",
              "          try {\n",
              "            const charts = await google.colab.kernel.invokeFunction(\n",
              "                'suggestCharts', [key], {});\n",
              "          } catch (error) {\n",
              "            console.error('Error during call to suggestCharts:', error);\n",
              "          }\n",
              "          quickchartButtonEl.classList.remove('colab-df-spinner');\n",
              "          quickchartButtonEl.classList.add('colab-df-quickchart-complete');\n",
              "        }\n",
              "        (() => {\n",
              "          let quickchartButtonEl =\n",
              "            document.querySelector('#df-0734fd40-005a-4906-a919-65b39662ffde button');\n",
              "          quickchartButtonEl.style.display =\n",
              "            google.colab.kernel.accessAllowed ? 'block' : 'none';\n",
              "        })();\n",
              "      </script>\n",
              "    </div>\n",
              "\n",
              "    </div>\n",
              "  </div>\n"
            ],
            "application/vnd.google.colaboratory.intrinsic+json": {
              "type": "dataframe",
              "variable_name": "test_df"
            }
          },
          "metadata": {},
          "execution_count": 5
        }
      ]
    },
    {
      "cell_type": "code",
      "source": [
        "train_df.info()"
      ],
      "metadata": {
        "colab": {
          "base_uri": "https://localhost:8080/"
        },
        "id": "Td92FKFlE1Kd",
        "outputId": "8cd3f89c-f490-41f5-ed09-f7f5376fdf3c"
      },
      "execution_count": null,
      "outputs": [
        {
          "output_type": "stream",
          "name": "stdout",
          "text": [
            "<class 'pandas.core.frame.DataFrame'>\n",
            "RangeIndex: 11999 entries, 0 to 11998\n",
            "Data columns (total 22 columns):\n",
            " #   Column            Non-Null Count  Dtype  \n",
            "---  ------            --------------  -----  \n",
            " 0   ID                11999 non-null  object \n",
            " 1   ip_src            9487 non-null   object \n",
            " 2   port_src          8625 non-null   float64\n",
            " 3   ip_dst            10695 non-null  object \n",
            " 4   port_dst          9712 non-null   float64\n",
            " 5   protocol          11999 non-null  object \n",
            " 6   duration          10925 non-null  float64\n",
            " 7   pkt_count_fwd     11999 non-null  int64  \n",
            " 8   pkt_count_bwd     11999 non-null  int64  \n",
            " 9   rate_fwd_pkts     10828 non-null  float64\n",
            " 10  rate_bwd_pkts     10312 non-null  float64\n",
            " 11  rate_fwd_bytes    11999 non-null  float64\n",
            " 12  rate_bwd_bytes    11999 non-null  float64\n",
            " 13  payload_fwd_mean  10214 non-null  float64\n",
            " 14  payload_bwd_mean  10214 non-null  float64\n",
            " 15  tcp_win_fwd_init  11999 non-null  int64  \n",
            " 16  tcp_win_bwd_init  11999 non-null  int64  \n",
            " 17  tcp_syn_count     11999 non-null  int64  \n",
            " 18  tcp_psh_count     11999 non-null  int64  \n",
            " 19  tcp_rst_count     11999 non-null  int64  \n",
            " 20  iat_avg_packets   9239 non-null   float64\n",
            " 21  attack_type       11999 non-null  object \n",
            "dtypes: float64(10), int64(7), object(5)\n",
            "memory usage: 2.0+ MB\n"
          ]
        }
      ]
    },
    {
      "cell_type": "code",
      "source": [
        "test_df.info()"
      ],
      "metadata": {
        "id": "v_cTN-eYE1Mz",
        "colab": {
          "base_uri": "https://localhost:8080/"
        },
        "outputId": "d1efe008-d6c1-4fa3-e2b2-0016c024b6e1"
      },
      "execution_count": null,
      "outputs": [
        {
          "output_type": "stream",
          "name": "stdout",
          "text": [
            "<class 'pandas.core.frame.DataFrame'>\n",
            "RangeIndex: 3000 entries, 0 to 2999\n",
            "Data columns (total 21 columns):\n",
            " #   Column            Non-Null Count  Dtype  \n",
            "---  ------            --------------  -----  \n",
            " 0   ID                3000 non-null   object \n",
            " 1   ip_src            2363 non-null   object \n",
            " 2   port_src          2175 non-null   float64\n",
            " 3   ip_dst            2655 non-null   object \n",
            " 4   port_dst          2438 non-null   float64\n",
            " 5   protocol          3000 non-null   object \n",
            " 6   duration          2725 non-null   float64\n",
            " 7   pkt_count_fwd     3000 non-null   int64  \n",
            " 8   pkt_count_bwd     3000 non-null   int64  \n",
            " 9   rate_fwd_pkts     2672 non-null   float64\n",
            " 10  rate_bwd_pkts     2588 non-null   float64\n",
            " 11  rate_fwd_bytes    3000 non-null   float64\n",
            " 12  rate_bwd_bytes    3000 non-null   float64\n",
            " 13  payload_fwd_mean  2536 non-null   float64\n",
            " 14  payload_bwd_mean  2536 non-null   float64\n",
            " 15  tcp_win_fwd_init  3000 non-null   int64  \n",
            " 16  tcp_win_bwd_init  3000 non-null   int64  \n",
            " 17  tcp_syn_count     3000 non-null   int64  \n",
            " 18  tcp_psh_count     3000 non-null   int64  \n",
            " 19  tcp_rst_count     3000 non-null   int64  \n",
            " 20  iat_avg_packets   2311 non-null   float64\n",
            "dtypes: float64(10), int64(7), object(4)\n",
            "memory usage: 492.3+ KB\n"
          ]
        }
      ]
    },
    {
      "cell_type": "markdown",
      "source": [
        "# **전처리**"
      ],
      "metadata": {
        "id": "4pG5JhkbRvmg"
      }
    },
    {
      "cell_type": "code",
      "source": [
        "train = train_df.copy() ## 데이터 복사\n",
        "test = test_df.copy()"
      ],
      "metadata": {
        "id": "GvSzvw8geArS"
      },
      "execution_count": null,
      "outputs": []
    },
    {
      "cell_type": "markdown",
      "source": [
        "## **payload 결측치 관련 파생변수**"
      ],
      "metadata": {
        "id": "9Xy2qjo6siGP"
      }
    },
    {
      "cell_type": "code",
      "source": [
        "# payload 결측치 플래그\n",
        "train['payload_bwd_missing_flag'] = train['payload_bwd_mean'].isna().astype(int)\n",
        "test['payload_bwd_missing_flag'] = test['payload_bwd_mean'].isna().astype(int)"
      ],
      "metadata": {
        "id": "67Cqdqe_shuQ"
      },
      "execution_count": null,
      "outputs": []
    },
    {
      "cell_type": "markdown",
      "source": [
        "## 결측치 처리"
      ],
      "metadata": {
        "id": "64u3OpG3Njtz"
      }
    },
    {
      "cell_type": "code",
      "source": [
        "# 포트 변수 변수 => -1\n",
        "# payload, rate, iat_avg_packets, duration, => 중앙값\n",
        "\n",
        "\n",
        "train['port_src'].fillna(-1, inplace=True) # -1 대체\n",
        "train['port_dst'].fillna(-1, inplace=True)\n",
        "\n",
        "payload_bwd_median = train['payload_bwd_mean'].median() # 중앙값 대체\n",
        "train['payload_bwd_mean'].fillna(payload_bwd_median, inplace=True)\n",
        "\n",
        "payload_fwd_median = train['payload_fwd_mean'].median()\n",
        "train['payload_fwd_mean'].fillna(payload_fwd_median, inplace=True)\n",
        "\n",
        "iat_median = train['iat_avg_packets'].median()\n",
        "train['iat_avg_packets'].fillna(iat_median, inplace=True)\n",
        "\n",
        "duration_median = train['duration'].median()\n",
        "train['duration'].fillna(duration_median, inplace=True)\n",
        "\n",
        "rate_fwd_median = train['rate_fwd_pkts'].median()\n",
        "train['rate_fwd_pkts'].fillna(rate_fwd_median, inplace=True)\n",
        "\n",
        "rate_bwd_median = train['rate_bwd_pkts'].median()\n",
        "train['rate_bwd_pkts'].fillna(rate_bwd_median, inplace=True)"
      ],
      "metadata": {
        "id": "L2h7yWqLNqUJ"
      },
      "execution_count": null,
      "outputs": []
    },
    {
      "cell_type": "code",
      "source": [
        "test['port_src'].fillna(-1, inplace=True) # -1 대체\n",
        "test['port_dst'].fillna(-1, inplace=True)\n",
        "\n",
        "payload_bwd_median = test['payload_bwd_mean'].median() # 중앙값 대체\n",
        "test['payload_bwd_mean'].fillna(payload_bwd_median, inplace=True)\n",
        "\n",
        "payload_fwd_median = test['payload_fwd_mean'].median()\n",
        "test['payload_fwd_mean'].fillna(payload_fwd_median, inplace=True)\n",
        "\n",
        "iat_median = test['iat_avg_packets'].median()\n",
        "test['iat_avg_packets'].fillna(iat_median, inplace=True)\n",
        "\n",
        "duration_median = test['duration'].median()\n",
        "test['duration'].fillna(duration_median, inplace=True)\n",
        "\n",
        "rate_fwd_median = test['rate_fwd_pkts'].median()\n",
        "test['rate_fwd_pkts'].fillna(rate_fwd_median, inplace=True)\n",
        "\n",
        "rate_bwd_median = test['rate_bwd_pkts'].median()\n",
        "test['rate_bwd_pkts'].fillna(rate_bwd_median, inplace=True)"
      ],
      "metadata": {
        "id": "wqQBx7TrK6OU"
      },
      "execution_count": null,
      "outputs": []
    },
    {
      "cell_type": "markdown",
      "source": [
        "## 값 기반 범주화 (syn_flag_cat, port_dst_cat)"
      ],
      "metadata": {
        "id": "c3gI8kvxTOrW"
      }
    },
    {
      "cell_type": "code",
      "source": [
        "#=============================================================================\n",
        "# tcp_syn_count => 3개로 범주화\n",
        "# port_dst => 1~2023/이후 상위 5개/나머지\n",
        "#=============================================================================\n",
        "\n",
        "def categorize_syn(x):\n",
        "    if x == 0:\n",
        "        return 0  # 정상\n",
        "    elif x in [1, 2]:\n",
        "        return 1  # 약간의 SYN 요청\n",
        "    else:\n",
        "        return 2  # SYN Flooding 가능성\n",
        "\n",
        "train['syn_flag_cat'] = train['tcp_syn_count'].apply(categorize_syn)\n",
        "test['syn_flag_cat'] = test['tcp_syn_count'].apply(categorize_syn)"
      ],
      "metadata": {
        "id": "3bO9KnoqTy7S"
      },
      "execution_count": null,
      "outputs": []
    },
    {
      "cell_type": "code",
      "source": [
        "# port_dst>1023 데이터 중 상위 5개 포트 추출\n",
        "dst_port_high = train[train['port_dst'] > 1023]['port_dst']\n",
        "top5_ports = dst_port_high.value_counts().nlargest(5).index\n",
        "\n",
        "def categorize_port_dst(p):\n",
        "    if p <= 1023:\n",
        "        return str(int(p))  # 0~1023은 그대로\n",
        "    elif p in top5_ports:\n",
        "        return f'special_{int(p)}' # 1024, 8072, 49152, 8079, 2602\n",
        "    else:\n",
        "        return 'other'\n",
        "\n",
        "train['port_dst_cat'] = train['port_dst'].apply(categorize_port_dst)"
      ],
      "metadata": {
        "id": "xwC78ZjJZwJ_"
      },
      "execution_count": null,
      "outputs": []
    },
    {
      "cell_type": "code",
      "source": [
        "dst_port_high_test = test[test['port_dst'] > 1023]['port_dst']\n",
        "top5_ports_test = dst_port_high_test.value_counts().nlargest(5).index\n",
        "\n",
        "def categorize_port_dst_test(p):\n",
        "    if p <= 1023:\n",
        "        return str(int(p))  # 0~1023은 그대로\n",
        "    elif p in top5_ports_test:\n",
        "        return f'special_{int(p)}' # 1024, 8072, 49152, 8079, 2602\n",
        "    else:\n",
        "        return 'other'\n",
        "\n",
        "test['port_dst_cat'] = test['port_dst'].apply(categorize_port_dst_test)"
      ],
      "metadata": {
        "id": "VjcnYxSGMN8t"
      },
      "execution_count": null,
      "outputs": []
    },
    {
      "cell_type": "markdown",
      "source": [
        "## 추가 파생변수"
      ],
      "metadata": {
        "id": "QkPw1xkfg9j-"
      }
    },
    {
      "cell_type": "code",
      "source": [
        "# PSH 유무: tcp_psh_count > 0 → 1, else → 0\n",
        "train['has_psh_flag'] = (train['tcp_psh_count'] > 0).astype(int)\n",
        "test['has_psh_flag'] = (test['tcp_psh_count'] > 0).astype(int)\n",
        "\n",
        "# 초당 패킷 전송 비율 = rate_fwd_pkts / rate_bwd_pkts\n",
        "train['rate_pkts_ratio'] = train['rate_fwd_pkts'] / (train['rate_bwd_pkts'] + 1e-5) # 0으로 나누는 것 방지\n",
        "test['rate_pkts_ratio'] = test['rate_fwd_pkts'] / (test['rate_bwd_pkts'] + 1e-5)\n",
        "\n",
        "# 송수신 패킷 비율 = pkt_count_fwd / pkt_count_bwd\n",
        "train['pkt_count_ratio'] = train['pkt_count_fwd'] / (train['pkt_count_bwd'] + 1e-5)\n",
        "test['pkt_count_ratio'] = test['pkt_count_fwd'] / (test['pkt_count_bwd'] + 1e-5)\n",
        "\n",
        "# 패킷 간 평균 시간 간격 이진 파생변수: iat_avg_packets <= 1 → 1, else → 0\n",
        "train['is_iat_low'] = (train['iat_avg_packets'] <= 1.0).astype(int)\n",
        "test['is_iat_low'] = (test['iat_avg_packets'] <= 1.0).astype(int)\n",
        "\n",
        "# 포트 클러스터링 기반 파생변수 추가 (KMeans)\n",
        "from sklearn.cluster import KMeans\n",
        "\n",
        "port_dst_train = train_df[['port_dst']].fillna(-1)\n",
        "port_dst_test = test_df[['port_dst']].fillna(-1)\n",
        "\n",
        "kmeans = KMeans(n_clusters=6, random_state=156)\n",
        "train['port_dst_cluster'] = kmeans.fit_predict(port_dst_train)\n",
        "test['port_dst_cluster'] = kmeans.predict(port_dst_test)\n",
        "\n",
        "# 비율 기반 파생변수 추가 (payload / (payload +duration))\n",
        "train['payload_ratio'] = train['payload_bwd_mean'] / (train['payload_bwd_mean'] + train['duration'] + 1e-5)\n",
        "test['payload_ratio'] = test['payload_bwd_mean'] / (test['payload_bwd_mean'] + test['duration'] + 1e-5)\n",
        "\n",
        "# TCP 윈도우 비율 파생변수 추기\n",
        "train['win_ratio'] = train['tcp_win_fwd_init'] / (train['tcp_win_bwd_init'] + 1e-5)\n",
        "test['win_ratio'] = test['tcp_win_fwd_init'] / (test['tcp_win_bwd_init'] + 1e-5)\n",
        "\n",
        "# 불필요한 기존변수 삭제\n",
        "train.drop(['tcp_psh_count','rate_fwd_pkts','rate_bwd_pkts',\n",
        "            'pkt_count_fwd','pkt_count_bwd'], axis=1, inplace=True)\n",
        "test.drop(['tcp_psh_count','rate_fwd_pkts','rate_bwd_pkts',\n",
        "            'pkt_count_fwd','pkt_count_bwd'], axis=1, inplace=True)"
      ],
      "metadata": {
        "id": "TMlGkgZ8g_ZL"
      },
      "execution_count": null,
      "outputs": []
    },
    {
      "cell_type": "markdown",
      "source": [
        "## 변수 삭제"
      ],
      "metadata": {
        "id": "VJC5sOc-QGw0"
      }
    },
    {
      "cell_type": "code",
      "source": [
        "# ID, ip_scr, ip_dst, port_src\n",
        "# payload_fwd_mean (bwd와 겹치는 칼럼)\n",
        "\n",
        "train.drop(['ID','ip_src','ip_dst','payload_fwd_mean','port_src','port_dst','tcp_syn_count'], axis=1, inplace=True)\n",
        "test.drop(['ID','ip_src','ip_dst','payload_fwd_mean','port_src','port_dst','tcp_syn_count'], axis=1, inplace=True)"
      ],
      "metadata": {
        "id": "hb7tDkFhloH3",
        "collapsed": true
      },
      "execution_count": null,
      "outputs": []
    },
    {
      "cell_type": "markdown",
      "source": [
        "## 로그변환"
      ],
      "metadata": {
        "id": "EkBvxnRIucYR"
      }
    },
    {
      "cell_type": "code",
      "source": [
        "import numpy as np\n",
        "\n",
        "log_cols = [\n",
        "    'duration',\n",
        "    'rate_fwd_bytes',\n",
        "    'rate_bwd_bytes',\n",
        "    'payload_bwd_mean',\n",
        "    'tcp_rst_count',\n",
        "    'tcp_win_fwd_init',\n",
        "    'tcp_win_bwd_init',\n",
        "    'iat_avg_packets',\n",
        "    'rate_pkts_ratio',\n",
        "    'pkt_count_ratio',\n",
        "    'payload_ratio',\n",
        "    'win_ratio'\n",
        "]\n",
        "\n",
        "for col in log_cols:\n",
        "    train[col] = np.log1p(train[col])\n",
        "    test[col] = np.log1p(test[col])"
      ],
      "metadata": {
        "id": "VUYum6k_26Ap"
      },
      "execution_count": null,
      "outputs": []
    },
    {
      "cell_type": "markdown",
      "source": [
        "## 스케일링"
      ],
      "metadata": {
        "id": "l0SzYrE-33OD"
      }
    },
    {
      "cell_type": "code",
      "source": [
        "from sklearn.preprocessing import StandardScaler\n",
        "\n",
        "scale_cols = log_cols.copy()\n",
        "\n",
        "# 스케일러 객체 생성\n",
        "scaler = StandardScaler()\n",
        "\n",
        "# 스케일링 적용\n",
        "train[scale_cols] = scaler.fit_transform(train[scale_cols])\n",
        "test[scale_cols] = scaler.transform(test[scale_cols])"
      ],
      "metadata": {
        "id": "gR_94xmp32Gn"
      },
      "execution_count": null,
      "outputs": []
    },
    {
      "cell_type": "markdown",
      "source": [
        "## LabelEncoding"
      ],
      "metadata": {
        "id": "rc35NryV5MdB"
      }
    },
    {
      "cell_type": "code",
      "source": [
        "from sklearn.preprocessing import LabelEncoder\n",
        "\n",
        "# 라벨 인코더 생성\n",
        "le_protocol = LabelEncoder()\n",
        "le_postdst = LabelEncoder()\n",
        "le_attack = LabelEncoder()\n",
        "\n",
        "le_protocol.fit(pd.concat([train['protocol'], test['protocol']], axis=0).astype(str).unique())\n",
        "le_postdst.fit(pd.concat([train['port_dst_cat'], test['port_dst_cat']], axis=0).astype(str).unique())\n",
        "\n",
        "train['protocol'] = le_protocol.transform(train['protocol'].astype(str))\n",
        "train['port_dst_cat'] = le_postdst.transform(train['port_dst_cat'].astype(str))\n",
        "train['attack_type'] = le_attack.fit_transform(train['attack_type']) # attack_type is only in train\n",
        "\n",
        "test['protocol'] = le_protocol.transform(test['protocol'].astype(str))\n",
        "test['port_dst_cat'] = le_postdst.transform(test['port_dst_cat'].astype(str))"
      ],
      "metadata": {
        "id": "cg-Qbr2y70at"
      },
      "execution_count": null,
      "outputs": []
    },
    {
      "cell_type": "markdown",
      "source": [
        "# 모델 선정 + 학습 및 예측"
      ],
      "metadata": {
        "id": "tK3FGheZcinN"
      }
    },
    {
      "cell_type": "markdown",
      "source": [
        "###**XGBoost + Optuna**"
      ],
      "metadata": {
        "id": "5mthmfc482Mt"
      }
    },
    {
      "cell_type": "markdown",
      "source": [
        "**Optuna + StratifiedKFold 적용**"
      ],
      "metadata": {
        "id": "KZjCZlcWOVkp"
      }
    },
    {
      "cell_type": "code",
      "source": [
        "X = train.drop(['attack_type'], axis=1)\n",
        "y = train['attack_type']"
      ],
      "metadata": {
        "id": "640qaQN8OrIF"
      },
      "execution_count": null,
      "outputs": []
    },
    {
      "cell_type": "code",
      "source": [
        "!pip install optuna"
      ],
      "metadata": {
        "colab": {
          "base_uri": "https://localhost:8080/"
        },
        "id": "RwFlWQBwPtxT",
        "outputId": "880b9ec0-d34f-49b4-9f97-502a1c33a669"
      },
      "execution_count": null,
      "outputs": [
        {
          "output_type": "stream",
          "name": "stdout",
          "text": [
            "Collecting optuna\n",
            "  Downloading optuna-4.4.0-py3-none-any.whl.metadata (17 kB)\n",
            "Collecting alembic>=1.5.0 (from optuna)\n",
            "  Downloading alembic-1.16.4-py3-none-any.whl.metadata (7.3 kB)\n",
            "Collecting colorlog (from optuna)\n",
            "  Downloading colorlog-6.9.0-py3-none-any.whl.metadata (10 kB)\n",
            "Requirement already satisfied: numpy in /usr/local/lib/python3.11/dist-packages (from optuna) (2.0.2)\n",
            "Requirement already satisfied: packaging>=20.0 in /usr/local/lib/python3.11/dist-packages (from optuna) (25.0)\n",
            "Requirement already satisfied: sqlalchemy>=1.4.2 in /usr/local/lib/python3.11/dist-packages (from optuna) (2.0.41)\n",
            "Requirement already satisfied: tqdm in /usr/local/lib/python3.11/dist-packages (from optuna) (4.67.1)\n",
            "Requirement already satisfied: PyYAML in /usr/local/lib/python3.11/dist-packages (from optuna) (6.0.2)\n",
            "Requirement already satisfied: Mako in /usr/lib/python3/dist-packages (from alembic>=1.5.0->optuna) (1.1.3)\n",
            "Requirement already satisfied: typing-extensions>=4.12 in /usr/local/lib/python3.11/dist-packages (from alembic>=1.5.0->optuna) (4.14.1)\n",
            "Requirement already satisfied: greenlet>=1 in /usr/local/lib/python3.11/dist-packages (from sqlalchemy>=1.4.2->optuna) (3.2.3)\n",
            "Downloading optuna-4.4.0-py3-none-any.whl (395 kB)\n",
            "\u001b[2K   \u001b[90m━━━━━━━━━━━━━━━━━━━━━━━━━━━━━━━━━━━━━━━━\u001b[0m \u001b[32m395.9/395.9 kB\u001b[0m \u001b[31m17.5 MB/s\u001b[0m eta \u001b[36m0:00:00\u001b[0m\n",
            "\u001b[?25hDownloading alembic-1.16.4-py3-none-any.whl (247 kB)\n",
            "\u001b[2K   \u001b[90m━━━━━━━━━━━━━━━━━━━━━━━━━━━━━━━━━━━━━━━━\u001b[0m \u001b[32m247.0/247.0 kB\u001b[0m \u001b[31m18.4 MB/s\u001b[0m eta \u001b[36m0:00:00\u001b[0m\n",
            "\u001b[?25hDownloading colorlog-6.9.0-py3-none-any.whl (11 kB)\n",
            "Installing collected packages: colorlog, alembic, optuna\n",
            "Successfully installed alembic-1.16.4 colorlog-6.9.0 optuna-4.4.0\n"
          ]
        }
      ]
    },
    {
      "cell_type": "code",
      "source": [
        "import optuna\n",
        "from xgboost import XGBClassifier\n",
        "from sklearn.model_selection import StratifiedKFold, cross_val_score\n",
        "from sklearn.metrics import f1_score, make_scorer\n",
        "import numpy as np\n",
        "\n",
        "# 튜닝 대상 데이터\n",
        "X_tune = X\n",
        "y_tune = y\n",
        "\n",
        "# 평가지표\n",
        "f1_macro = make_scorer(f1_score, average='macro')\n",
        "\n",
        "# Optuna 목적 함수 정의\n",
        "def objective(trial):\n",
        "    params = {\n",
        "        'max_depth': trial.suggest_int('max_depth', 3, 10),\n",
        "        'learning_rate': trial.suggest_float('learning_rate', 0.01, 0.3),\n",
        "        'n_estimators': trial.suggest_int('n_estimators', 100, 500),\n",
        "        'subsample': trial.suggest_float('subsample', 0.6, 1.0),\n",
        "        'colsample_bytree': trial.suggest_float('colsample_bytree', 0.6, 1.0),\n",
        "        'reg_alpha': trial.suggest_float('reg_alpha', 0.0, 5.0),\n",
        "        'reg_lambda': trial.suggest_float('reg_lambda', 0.0, 5.0),\n",
        "        'random_state': 156,\n",
        "        'use_label_encoder': False,\n",
        "        'eval_metric': 'mlogloss',\n",
        "        'verbosity': 0\n",
        "    }\n",
        "\n",
        "    model = XGBClassifier(**params)\n",
        "    skf = StratifiedKFold(n_splits=5, shuffle=True, random_state=156)\n",
        "    scores = cross_val_score(model, X_tune, y_tune, scoring=f1_macro, cv=skf)\n",
        "\n",
        "    return np.mean(scores)\n",
        "\n",
        "# Optuna 튜닝\n",
        "study = optuna.create_study(direction='maximize')\n",
        "study.optimize(objective, n_trials=50, timeout=1800)\n",
        "\n",
        "# 최적 파라미터 및 성능 확인\n",
        "print(\"Best trial:\")\n",
        "print(f\"  F1-macro: {study.best_value}\")\n",
        "print(f\"  Params: {study.best_params}\")"
      ],
      "metadata": {
        "id": "ANs9as6bOgSm",
        "colab": {
          "base_uri": "https://localhost:8080/"
        },
        "outputId": "07a0646e-0bce-41bd-b8af-6d685f388930"
      },
      "execution_count": null,
      "outputs": [
        {
          "output_type": "stream",
          "name": "stderr",
          "text": [
            "[I 2025-07-22 17:47:54,336] A new study created in memory with name: no-name-a7604e4b-c2c6-40f4-b77c-e123731ce1bd\n",
            "[I 2025-07-22 17:48:42,997] Trial 0 finished with value: 0.782831123382574 and parameters: {'max_depth': 4, 'learning_rate': 0.18614843778981663, 'n_estimators': 434, 'subsample': 0.910394841500616, 'colsample_bytree': 0.6129493888508529, 'reg_alpha': 0.060476252028701105, 'reg_lambda': 1.176920780747931}. Best is trial 0 with value: 0.782831123382574.\n",
            "[I 2025-07-22 17:49:09,777] Trial 1 finished with value: 0.7067299814281316 and parameters: {'max_depth': 9, 'learning_rate': 0.25068836688820295, 'n_estimators': 475, 'subsample': 0.6702895692078107, 'colsample_bytree': 0.6453437281912574, 'reg_alpha': 4.985766949774792, 'reg_lambda': 2.718460293284595}. Best is trial 0 with value: 0.782831123382574.\n",
            "[I 2025-07-22 17:49:35,883] Trial 2 finished with value: 0.7349321635409585 and parameters: {'max_depth': 9, 'learning_rate': 0.24840196549105045, 'n_estimators': 374, 'subsample': 0.8218587826132477, 'colsample_bytree': 0.8454705722032957, 'reg_alpha': 2.6095333509687184, 'reg_lambda': 4.2732719519400595}. Best is trial 0 with value: 0.782831123382574.\n",
            "[I 2025-07-22 17:49:56,641] Trial 3 finished with value: 0.763599441347379 and parameters: {'max_depth': 9, 'learning_rate': 0.12933432510921064, 'n_estimators': 210, 'subsample': 0.9118705790620003, 'colsample_bytree': 0.8157637126520848, 'reg_alpha': 1.031827411464148, 'reg_lambda': 4.343687317860842}. Best is trial 0 with value: 0.782831123382574.\n",
            "[I 2025-07-22 17:50:05,622] Trial 4 finished with value: 0.7397559931090989 and parameters: {'max_depth': 4, 'learning_rate': 0.13044929716946219, 'n_estimators': 112, 'subsample': 0.922929642993142, 'colsample_bytree': 0.6095280061830939, 'reg_alpha': 0.5547126905438804, 'reg_lambda': 3.7185899642271907}. Best is trial 0 with value: 0.782831123382574.\n",
            "[I 2025-07-22 17:50:29,711] Trial 5 finished with value: 0.7416825256717051 and parameters: {'max_depth': 4, 'learning_rate': 0.2128510831394474, 'n_estimators': 354, 'subsample': 0.7037141827065828, 'colsample_bytree': 0.8096183848830351, 'reg_alpha': 2.5553024905319233, 'reg_lambda': 4.0757228373836165}. Best is trial 0 with value: 0.782831123382574.\n",
            "[I 2025-07-22 17:50:55,641] Trial 6 finished with value: 0.7276466408644134 and parameters: {'max_depth': 6, 'learning_rate': 0.1893728084389299, 'n_estimators': 432, 'subsample': 0.7718660990819439, 'colsample_bytree': 0.6506868660930853, 'reg_alpha': 3.6750989696060405, 'reg_lambda': 1.8062826733016473}. Best is trial 0 with value: 0.782831123382574.\n",
            "[I 2025-07-22 17:51:04,437] Trial 7 finished with value: 0.7163650864496077 and parameters: {'max_depth': 10, 'learning_rate': 0.27918630594367827, 'n_estimators': 165, 'subsample': 0.9432666853122831, 'colsample_bytree': 0.7008238026878804, 'reg_alpha': 3.6869988473909925, 'reg_lambda': 1.6093785709021757}. Best is trial 0 with value: 0.782831123382574.\n",
            "[I 2025-07-22 17:51:28,220] Trial 8 finished with value: 0.7016956929855517 and parameters: {'max_depth': 5, 'learning_rate': 0.11029783803892951, 'n_estimators': 332, 'subsample': 0.7679219735272791, 'colsample_bytree': 0.7506538723414495, 'reg_alpha': 3.5087759255208955, 'reg_lambda': 2.4705771036899247}. Best is trial 0 with value: 0.782831123382574.\n",
            "[I 2025-07-22 17:51:42,736] Trial 9 finished with value: 0.6974571988778767 and parameters: {'max_depth': 9, 'learning_rate': 0.17451936651732555, 'n_estimators': 214, 'subsample': 0.8668610188029111, 'colsample_bytree': 0.7885563825967797, 'reg_alpha': 4.215258550913598, 'reg_lambda': 2.6963055923081702}. Best is trial 0 with value: 0.782831123382574.\n",
            "[I 2025-07-22 17:52:21,645] Trial 10 finished with value: 0.7307210739170075 and parameters: {'max_depth': 3, 'learning_rate': 0.04246338332495814, 'n_estimators': 495, 'subsample': 0.6027801856196219, 'colsample_bytree': 0.9936088173046662, 'reg_alpha': 1.4827663861255975, 'reg_lambda': 0.3741876015604404}. Best is trial 0 with value: 0.782831123382574.\n",
            "[I 2025-07-22 17:52:45,604] Trial 11 finished with value: 0.788496517063302 and parameters: {'max_depth': 7, 'learning_rate': 0.08885136463458201, 'n_estimators': 254, 'subsample': 0.9896502228387718, 'colsample_bytree': 0.8827795428692775, 'reg_alpha': 0.4335682231846033, 'reg_lambda': 0.3030310793233215}. Best is trial 11 with value: 0.788496517063302.\n",
            "[I 2025-07-22 17:53:09,442] Trial 12 finished with value: 0.7859768001845154 and parameters: {'max_depth': 7, 'learning_rate': 0.0623183501199228, 'n_estimators': 256, 'subsample': 0.9984979562230163, 'colsample_bytree': 0.905032091644705, 'reg_alpha': 0.07717970664714119, 'reg_lambda': 0.0013799411145654084}. Best is trial 11 with value: 0.788496517063302.\n",
            "[I 2025-07-22 17:53:35,340] Trial 13 finished with value: 0.7581891747053789 and parameters: {'max_depth': 7, 'learning_rate': 0.05288353222051414, 'n_estimators': 272, 'subsample': 0.9964844633314324, 'colsample_bytree': 0.9145059957736156, 'reg_alpha': 1.5492721241140592, 'reg_lambda': 0.04126795809803589}. Best is trial 11 with value: 0.788496517063302.\n",
            "[I 2025-07-22 17:54:01,519] Trial 14 finished with value: 0.7844668926208405 and parameters: {'max_depth': 7, 'learning_rate': 0.07763939180807555, 'n_estimators': 263, 'subsample': 0.9959628249001665, 'colsample_bytree': 0.9002576593262923, 'reg_alpha': 0.04453796041556313, 'reg_lambda': 0.7382463566576483}. Best is trial 11 with value: 0.788496517063302.\n",
            "[I 2025-07-22 17:54:24,949] Trial 15 finished with value: 0.6844234853251601 and parameters: {'max_depth': 6, 'learning_rate': 0.017271804992932377, 'n_estimators': 229, 'subsample': 0.9677386231885501, 'colsample_bytree': 0.9563236337443528, 'reg_alpha': 1.8164863656584584, 'reg_lambda': 0.7991794697222321}. Best is trial 11 with value: 0.788496517063302.\n",
            "[I 2025-07-22 17:54:50,982] Trial 16 finished with value: 0.773633249919562 and parameters: {'max_depth': 8, 'learning_rate': 0.09259405302111172, 'n_estimators': 297, 'subsample': 0.8767272997501568, 'colsample_bytree': 0.8826576493590955, 'reg_alpha': 0.8934981126093613, 'reg_lambda': 0.07990224190957809}. Best is trial 11 with value: 0.788496517063302.\n",
            "[I 2025-07-22 17:55:07,772] Trial 17 finished with value: 0.6334284338556013 and parameters: {'max_depth': 7, 'learning_rate': 0.011741846448772353, 'n_estimators': 166, 'subsample': 0.8584268938041797, 'colsample_bytree': 0.9507387429250556, 'reg_alpha': 0.5759765348818914, 'reg_lambda': 1.394289985012766}. Best is trial 11 with value: 0.788496517063302.\n",
            "[I 2025-07-22 17:55:36,332] Trial 18 finished with value: 0.7292520300152805 and parameters: {'max_depth': 8, 'learning_rate': 0.06201564788260304, 'n_estimators': 321, 'subsample': 0.9564422520046507, 'colsample_bytree': 0.85460456562173, 'reg_alpha': 2.1893013780314656, 'reg_lambda': 2.1286124216363245}. Best is trial 11 with value: 0.788496517063302.\n",
            "[I 2025-07-22 17:55:51,586] Trial 19 finished with value: 0.7683399586201775 and parameters: {'max_depth': 5, 'learning_rate': 0.151079211223682, 'n_estimators': 173, 'subsample': 0.837617813953376, 'colsample_bytree': 0.7520029104749609, 'reg_alpha': 0.500403565720176, 'reg_lambda': 3.3584748331048364}. Best is trial 11 with value: 0.788496517063302.\n",
            "[I 2025-07-22 17:56:03,439] Trial 20 finished with value: 0.7521939872895057 and parameters: {'max_depth': 8, 'learning_rate': 0.10320738552777811, 'n_estimators': 105, 'subsample': 0.7904932026518561, 'colsample_bytree': 0.9354365176036837, 'reg_alpha': 1.1817777979847326, 'reg_lambda': 0.5986896003319582}. Best is trial 11 with value: 0.788496517063302.\n",
            "[I 2025-07-22 17:56:29,710] Trial 21 finished with value: 0.7845605964778204 and parameters: {'max_depth': 7, 'learning_rate': 0.07623670298762092, 'n_estimators': 270, 'subsample': 0.9994134618640217, 'colsample_bytree': 0.8932871341929822, 'reg_alpha': 0.023971423038486317, 'reg_lambda': 0.9314041974125171}. Best is trial 11 with value: 0.788496517063302.\n",
            "[I 2025-07-22 17:56:56,020] Trial 22 finished with value: 0.7738724464742679 and parameters: {'max_depth': 6, 'learning_rate': 0.045636591585408705, 'n_estimators': 258, 'subsample': 0.9978581548646565, 'colsample_bytree': 0.8722443705903715, 'reg_alpha': 0.07122685719826194, 'reg_lambda': 0.9952686897294818}. Best is trial 11 with value: 0.788496517063302.\n",
            "[I 2025-07-22 17:57:21,323] Trial 23 finished with value: 0.7837033834147384 and parameters: {'max_depth': 7, 'learning_rate': 0.06876777837416759, 'n_estimators': 245, 'subsample': 0.9561345839927265, 'colsample_bytree': 0.9945800892527527, 'reg_alpha': 0.5098549058968341, 'reg_lambda': 0.32042219711032294}. Best is trial 11 with value: 0.788496517063302.\n",
            "[I 2025-07-22 17:57:47,616] Trial 24 finished with value: 0.7675024357560307 and parameters: {'max_depth': 8, 'learning_rate': 0.08206292535414977, 'n_estimators': 290, 'subsample': 0.9692152272745399, 'colsample_bytree': 0.9184964334947131, 'reg_alpha': 0.8933431712761143, 'reg_lambda': 0.4919599751407079}. Best is trial 11 with value: 0.788496517063302.\n",
            "[I 2025-07-22 17:58:16,269] Trial 25 finished with value: 0.7898557835243163 and parameters: {'max_depth': 5, 'learning_rate': 0.11956775889412471, 'n_estimators': 390, 'subsample': 0.8960445036900282, 'colsample_bytree': 0.8456033715168332, 'reg_alpha': 0.3279721069917691, 'reg_lambda': 0.01544970410280487}. Best is trial 25 with value: 0.7898557835243163.\n",
            "[I 2025-07-22 17:58:42,028] Trial 26 finished with value: 0.7589173769208684 and parameters: {'max_depth': 5, 'learning_rate': 0.13038312259968982, 'n_estimators': 393, 'subsample': 0.8951030402647301, 'colsample_bytree': 0.8257814957809155, 'reg_alpha': 1.974104476936696, 'reg_lambda': 0.008617955465539538}. Best is trial 25 with value: 0.7898557835243163.\n",
            "[I 2025-07-22 17:59:10,605] Trial 27 finished with value: 0.7657355449042111 and parameters: {'max_depth': 6, 'learning_rate': 0.11219982928371607, 'n_estimators': 405, 'subsample': 0.9231961712331811, 'colsample_bytree': 0.7820547916631847, 'reg_alpha': 1.3290703693482935, 'reg_lambda': 1.3291082345390959}. Best is trial 25 with value: 0.7898557835243163.\n",
            "[I 2025-07-22 17:59:27,951] Trial 28 finished with value: 0.7357689195005961 and parameters: {'max_depth': 5, 'learning_rate': 0.03192616531585528, 'n_estimators': 193, 'subsample': 0.9391028555053217, 'colsample_bytree': 0.8621268264912342, 'reg_alpha': 0.3914815790965864, 'reg_lambda': 0.35067409435283403}. Best is trial 25 with value: 0.7898557835243163.\n",
            "[I 2025-07-22 17:59:53,207] Trial 29 finished with value: 0.7727040192874393 and parameters: {'max_depth': 4, 'learning_rate': 0.14253604951316406, 'n_estimators': 335, 'subsample': 0.9035533138515667, 'colsample_bytree': 0.9740352216420445, 'reg_alpha': 0.8040579456774852, 'reg_lambda': 1.1530316936464389}. Best is trial 25 with value: 0.7898557835243163.\n",
            "[I 2025-07-22 18:00:19,299] Trial 30 finished with value: 0.7174359704330714 and parameters: {'max_depth': 6, 'learning_rate': 0.1710406932276548, 'n_estimators': 441, 'subsample': 0.9751936292804795, 'colsample_bytree': 0.8340261763581746, 'reg_alpha': 3.1192216451024213, 'reg_lambda': 4.762012992975301}. Best is trial 25 with value: 0.7898557835243163.\n",
            "[I 2025-07-22 18:00:47,622] Trial 31 finished with value: 0.7893448544572361 and parameters: {'max_depth': 7, 'learning_rate': 0.09606822941202, 'n_estimators': 313, 'subsample': 0.9801540788356327, 'colsample_bytree': 0.8878999351962443, 'reg_alpha': 0.11794808092211176, 'reg_lambda': 0.8753676208794647}. Best is trial 25 with value: 0.7898557835243163.\n",
            "[I 2025-07-22 18:01:15,895] Trial 32 finished with value: 0.7879745237360337 and parameters: {'max_depth': 7, 'learning_rate': 0.09574802167949432, 'n_estimators': 319, 'subsample': 0.9339985522818864, 'colsample_bytree': 0.9200666522050102, 'reg_alpha': 0.28757012346640237, 'reg_lambda': 0.30644971542034244}. Best is trial 25 with value: 0.7898557835243163.\n",
            "[I 2025-07-22 18:01:43,876] Trial 33 finished with value: 0.7701030307515455 and parameters: {'max_depth': 3, 'learning_rate': 0.09753791985670182, 'n_estimators': 374, 'subsample': 0.8895250662550727, 'colsample_bytree': 0.9349034737330989, 'reg_alpha': 0.3126223887214685, 'reg_lambda': 0.7072174597220618}. Best is trial 25 with value: 0.7898557835243163.\n",
            "[I 2025-07-22 18:02:09,527] Trial 34 finished with value: 0.7774877102065564 and parameters: {'max_depth': 8, 'learning_rate': 0.11800605369518191, 'n_estimators': 315, 'subsample': 0.9310739771183753, 'colsample_bytree': 0.8719444727134947, 'reg_alpha': 0.8064301945750258, 'reg_lambda': 0.35294294679337374}. Best is trial 25 with value: 0.7898557835243163.\n",
            "[I 2025-07-22 18:02:40,893] Trial 35 finished with value: 0.7856474503088172 and parameters: {'max_depth': 6, 'learning_rate': 0.089871875938066, 'n_estimators': 358, 'subsample': 0.8368013207067846, 'colsample_bytree': 0.8491274681219082, 'reg_alpha': 0.32934477034069204, 'reg_lambda': 1.937824589519645}. Best is trial 25 with value: 0.7898557835243163.\n",
            "[I 2025-07-22 18:03:09,669] Trial 36 finished with value: 0.7789000268583426 and parameters: {'max_depth': 10, 'learning_rate': 0.14423473421573985, 'n_estimators': 414, 'subsample': 0.9171748376003864, 'colsample_bytree': 0.7681372296960987, 'reg_alpha': 1.123158211727556, 'reg_lambda': 1.0297385308035758}. Best is trial 25 with value: 0.7898557835243163.\n",
            "[I 2025-07-22 18:03:32,849] Trial 37 finished with value: 0.7065445237831749 and parameters: {'max_depth': 5, 'learning_rate': 0.12203479674050378, 'n_estimators': 364, 'subsample': 0.945277737598553, 'colsample_bytree': 0.8064579105291332, 'reg_alpha': 4.767435927224888, 'reg_lambda': 3.2857763757687843}. Best is trial 25 with value: 0.7898557835243163.\n",
            "[I 2025-07-22 18:04:03,411] Trial 38 finished with value: 0.7941996765792193 and parameters: {'max_depth': 9, 'learning_rate': 0.2194674119335795, 'n_estimators': 452, 'subsample': 0.978298559420077, 'colsample_bytree': 0.8348560506244289, 'reg_alpha': 0.2622686444270609, 'reg_lambda': 1.2832332980959433}. Best is trial 38 with value: 0.7941996765792193.\n",
            "[I 2025-07-22 18:04:32,527] Trial 39 finished with value: 0.7717782270426418 and parameters: {'max_depth': 9, 'learning_rate': 0.22208474554021995, 'n_estimators': 458, 'subsample': 0.9769054039934836, 'colsample_bytree': 0.8397497820602795, 'reg_alpha': 0.694385157050324, 'reg_lambda': 1.5230986503510926}. Best is trial 38 with value: 0.7941996765792193.\n",
            "[I 2025-07-22 18:05:04,438] Trial 40 finished with value: 0.769460385481437 and parameters: {'max_depth': 10, 'learning_rate': 0.28020481980514883, 'n_estimators': 481, 'subsample': 0.7237904621992436, 'colsample_bytree': 0.7347406218377343, 'reg_alpha': 1.6241218907439299, 'reg_lambda': 2.1763311108587313}. Best is trial 38 with value: 0.7941996765792193.\n",
            "[I 2025-07-22 18:05:28,972] Trial 41 finished with value: 0.7909764880302186 and parameters: {'max_depth': 9, 'learning_rate': 0.23235155212711345, 'n_estimators': 388, 'subsample': 0.9717811540236969, 'colsample_bytree': 0.883120066582458, 'reg_alpha': 0.2937693780818743, 'reg_lambda': 0.6063310455880577}. Best is trial 38 with value: 0.7941996765792193.\n",
            "[I 2025-07-22 18:06:00,934] Trial 42 finished with value: 0.7865917858777141 and parameters: {'max_depth': 9, 'learning_rate': 0.24271175359541408, 'n_estimators': 429, 'subsample': 0.976471694230867, 'colsample_bytree': 0.817759293998905, 'reg_alpha': 0.2611713227033716, 'reg_lambda': 1.2472502331393525}. Best is trial 38 with value: 0.7941996765792193.\n",
            "[I 2025-07-22 18:06:24,744] Trial 43 finished with value: 0.775404396388841 and parameters: {'max_depth': 10, 'learning_rate': 0.20243321040612625, 'n_estimators': 388, 'subsample': 0.9556284414163203, 'colsample_bytree': 0.8679240176881664, 'reg_alpha': 1.1199690650084033, 'reg_lambda': 1.700868522956434}. Best is trial 38 with value: 0.7941996765792193.\n",
            "[I 2025-07-22 18:06:51,843] Trial 44 finished with value: 0.7800057476871267 and parameters: {'max_depth': 9, 'learning_rate': 0.2598541150892125, 'n_estimators': 452, 'subsample': 0.9823955274877778, 'colsample_bytree': 0.8003115093810664, 'reg_alpha': 0.6794502666875678, 'reg_lambda': 0.635287767617953}. Best is trial 38 with value: 0.7941996765792193.\n",
            "[I 2025-07-22 18:07:23,643] Trial 45 finished with value: 0.7886352701312747 and parameters: {'max_depth': 8, 'learning_rate': 0.23324976224342497, 'n_estimators': 418, 'subsample': 0.9095415295929679, 'colsample_bytree': 0.8850215601679363, 'reg_alpha': 0.25594259786148993, 'reg_lambda': 0.8565715663370471}. Best is trial 38 with value: 0.7941996765792193.\n",
            "[I 2025-07-22 18:07:53,401] Trial 46 finished with value: 0.7755942130380048 and parameters: {'max_depth': 9, 'learning_rate': 0.2305838729085019, 'n_estimators': 416, 'subsample': 0.9036307277316068, 'colsample_bytree': 0.8901961593173502, 'reg_alpha': 0.014512525431486484, 'reg_lambda': 1.0170558739816025}. Best is trial 38 with value: 0.7941996765792193.\n",
            "[I 2025-07-22 18:08:19,405] Trial 47 finished with value: 0.731426205359204 and parameters: {'max_depth': 8, 'learning_rate': 0.2641426666387507, 'n_estimators': 473, 'subsample': 0.8828207526750063, 'colsample_bytree': 0.6356162394443834, 'reg_alpha': 3.1446627545873795, 'reg_lambda': 0.8539389976443311}. Best is trial 38 with value: 0.7941996765792193.\n",
            "[I 2025-07-22 18:08:45,384] Trial 48 finished with value: 0.7756434456744298 and parameters: {'max_depth': 9, 'learning_rate': 0.19319057340527854, 'n_estimators': 344, 'subsample': 0.8464223154693735, 'colsample_bytree': 0.844295353219786, 'reg_alpha': 0.9778116151989242, 'reg_lambda': 1.4846485652284462}. Best is trial 38 with value: 0.7941996765792193.\n",
            "[I 2025-07-22 18:09:14,053] Trial 49 finished with value: 0.781718055866824 and parameters: {'max_depth': 8, 'learning_rate': 0.1665727423475257, 'n_estimators': 390, 'subsample': 0.807262375713571, 'colsample_bytree': 0.688082776427591, 'reg_alpha': 0.6379726544733775, 'reg_lambda': 0.6266315007011695}. Best is trial 38 with value: 0.7941996765792193.\n"
          ]
        },
        {
          "output_type": "stream",
          "name": "stdout",
          "text": [
            "Best trial:\n",
            "  F1-macro: 0.7941996765792193\n",
            "  Params: {'max_depth': 9, 'learning_rate': 0.2194674119335795, 'n_estimators': 452, 'subsample': 0.978298559420077, 'colsample_bytree': 0.8348560506244289, 'reg_alpha': 0.2622686444270609, 'reg_lambda': 1.2832332980959433}\n"
          ]
        }
      ]
    },
    {
      "cell_type": "markdown",
      "source": [
        "**튜닝 후 최종 모델 학습**"
      ],
      "metadata": {
        "id": "Bl5yNQ6KO6UY"
      }
    },
    {
      "cell_type": "code",
      "source": [
        "# SMOTE 적용\n",
        "from imblearn.over_sampling import SMOTE\n",
        "\n",
        "smote = SMOTE(k_neighbors=3, random_state=156)\n",
        "X_train_over, y_train_over = smote.fit_resample(X, y)\n",
        "\n",
        "# 최적 파라미터 기반 모델 학습\n",
        "best_params = study.best_params\n",
        "best_params.update({\n",
        "    'random_state': 156,\n",
        "    'use_label_encoder': False,\n",
        "    'eval_metric': 'mlogloss',\n",
        "    'verbosity': 0\n",
        "})\n",
        "\n",
        "final_model = XGBClassifier(**best_params)\n",
        "final_model.fit(X_train_over, y_train_over)\n",
        "\n",
        "# 예측 및 평가\n",
        "test_pred = final_model.predict(test)\n",
        "print(\"Test set 예측 완료!\")"
      ],
      "metadata": {
        "id": "LUOgKvzqO14S",
        "colab": {
          "base_uri": "https://localhost:8080/"
        },
        "outputId": "fb20c114-7293-4166-e1a5-7b3765ae6913"
      },
      "execution_count": null,
      "outputs": [
        {
          "output_type": "stream",
          "name": "stdout",
          "text": [
            "Test set 예측 완료!\n"
          ]
        }
      ]
    },
    {
      "cell_type": "markdown",
      "source": [
        "**데이콘 제출**"
      ],
      "metadata": {
        "id": "nG0NBq1odXPM"
      }
    },
    {
      "cell_type": "code",
      "source": [
        "sample_submission = pd.read_csv('/content/drive/MyDrive/Colab Notebooks/sample_submission.csv')"
      ],
      "metadata": {
        "id": "InqQlCe3dXPM"
      },
      "execution_count": null,
      "outputs": []
    },
    {
      "cell_type": "code",
      "source": [
        "submission = pd.DataFrame({\n",
        "    'ID': test_df['ID'],\n",
        "    'attack_type': test_pred\n",
        "})\n",
        "\n",
        "submission['attack_type'] = le_attack.inverse_transform(submission['attack_type'])\n",
        "\n",
        "\n",
        "submission.to_csv('submission_xgb_Optuna.csv', index=False)"
      ],
      "metadata": {
        "id": "SpLlvY5gdXPM"
      },
      "execution_count": null,
      "outputs": []
    },
    {
      "cell_type": "code",
      "source": [
        "from google.colab import files\n",
        "files.download('submission_xgb_Optuna.csv')"
      ],
      "metadata": {
        "colab": {
          "base_uri": "https://localhost:8080/",
          "height": 17
        },
        "outputId": "80c37a34-a0d8-485a-e3c2-e614b9584a26",
        "id": "iMoGwD6YdXPM"
      },
      "execution_count": null,
      "outputs": [
        {
          "output_type": "display_data",
          "data": {
            "text/plain": [
              "<IPython.core.display.Javascript object>"
            ],
            "application/javascript": [
              "\n",
              "    async function download(id, filename, size) {\n",
              "      if (!google.colab.kernel.accessAllowed) {\n",
              "        return;\n",
              "      }\n",
              "      const div = document.createElement('div');\n",
              "      const label = document.createElement('label');\n",
              "      label.textContent = `Downloading \"${filename}\": `;\n",
              "      div.appendChild(label);\n",
              "      const progress = document.createElement('progress');\n",
              "      progress.max = size;\n",
              "      div.appendChild(progress);\n",
              "      document.body.appendChild(div);\n",
              "\n",
              "      const buffers = [];\n",
              "      let downloaded = 0;\n",
              "\n",
              "      const channel = await google.colab.kernel.comms.open(id);\n",
              "      // Send a message to notify the kernel that we're ready.\n",
              "      channel.send({})\n",
              "\n",
              "      for await (const message of channel.messages) {\n",
              "        // Send a message to notify the kernel that we're ready.\n",
              "        channel.send({})\n",
              "        if (message.buffers) {\n",
              "          for (const buffer of message.buffers) {\n",
              "            buffers.push(buffer);\n",
              "            downloaded += buffer.byteLength;\n",
              "            progress.value = downloaded;\n",
              "          }\n",
              "        }\n",
              "      }\n",
              "      const blob = new Blob(buffers, {type: 'application/binary'});\n",
              "      const a = document.createElement('a');\n",
              "      a.href = window.URL.createObjectURL(blob);\n",
              "      a.download = filename;\n",
              "      div.appendChild(a);\n",
              "      a.click();\n",
              "      div.remove();\n",
              "    }\n",
              "  "
            ]
          },
          "metadata": {}
        },
        {
          "output_type": "display_data",
          "data": {
            "text/plain": [
              "<IPython.core.display.Javascript object>"
            ],
            "application/javascript": [
              "download(\"download_c8555117-e170-43f5-a040-6bf020e11919\", \"submission_xgb_Optuna.csv\", 51559)"
            ]
          },
          "metadata": {}
        }
      ]
    },
    {
      "cell_type": "markdown",
      "source": [
        "**Feature Importance 시각화**"
      ],
      "metadata": {
        "id": "OMwsKq-adXPN"
      }
    },
    {
      "cell_type": "code",
      "source": [
        "importance = final_model.get_booster().get_score(importance_type='gain')\n",
        "feature_names = list(importance.keys())\n",
        "importances = list(importance.values())\n",
        "\n",
        "sorted_idx = np.argsort(importances)[::-1]\n",
        "sorted_features = [feature_names[i] for i in sorted_idx]\n",
        "sorted_importance = [importances[i] for i in sorted_idx]\n",
        "\n",
        "plt.figure(figsize=(10, 6))\n",
        "plt.barh(sorted_features, sorted_importance)\n",
        "plt.gca().invert_yaxis()\n",
        "plt.xlabel('Feature Importance')\n",
        "plt.title('XGBoost Feature Importance')\n",
        "plt.show()"
      ],
      "metadata": {
        "colab": {
          "base_uri": "https://localhost:8080/",
          "height": 564
        },
        "outputId": "84376e2a-ab5d-4c82-bd91-abc3259a60ab",
        "id": "aTOAoZQodXPN"
      },
      "execution_count": null,
      "outputs": [
        {
          "output_type": "display_data",
          "data": {
            "text/plain": [
              "<Figure size 1000x600 with 1 Axes>"
            ],
            "image/png": "[encoded data removed]"
          },
          "metadata": {}
        }
      ]
    }
  ]
}