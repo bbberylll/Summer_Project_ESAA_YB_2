{
  "nbformat": 4,
  "nbformat_minor": 0,
  "metadata": {
    "colab": {
      "provenance": []
    },
    "kernelspec": {
      "name": "python3",
      "display_name": "Python 3"
    },
    "language_info": {
      "name": "python"
    }
  },
  "cells": [
    {
      "cell_type": "markdown",
      "source": [
        "# DATA LOAD"
      ],
      "metadata": {
        "id": "vFykZLyN_9Nc"
      }
    },
    {
      "cell_type": "code",
      "source": [
        "import numpy as np\n",
        "import pandas as pd\n",
        "import matplotlib.pyplot as plt\n",
        "import matplotlib\n",
        "import warnings\n",
        "import seaborn as sns\n",
        "\n",
        "warnings.filterwarnings('ignore')"
      ],
      "metadata": {
        "id": "JljHRRIOdv1P"
      },
      "execution_count": 210,
      "outputs": []
    },
    {
      "cell_type": "code",
      "execution_count": 211,
      "metadata": {
        "colab": {
          "base_uri": "https://localhost:8080/"
        },
        "id": "WGqwF0YjdTlX",
        "outputId": "17268070-b4f2-4db0-dfd7-ff3a66f01cd2"
      },
      "outputs": [
        {
          "output_type": "stream",
          "name": "stdout",
          "text": [
            "Drive already mounted at /content/drive; to attempt to forcibly remount, call drive.mount(\"/content/drive\", force_remount=True).\n"
          ]
        }
      ],
      "source": [
        "from google.colab import drive\n",
        "drive.mount('/content/drive')"
      ]
    },
    {
      "cell_type": "code",
      "source": [
        "train_df = pd.read_csv('/content/drive/MyDrive/ESAA YB/0_Summer_project/train.csv')\n",
        "test_df = pd.read_csv('/content/drive/MyDrive/ESAA YB/0_Summer_project/test.csv')"
      ],
      "metadata": {
        "id": "4fi_Hh7Rde3O"
      },
      "execution_count": 212,
      "outputs": []
    },
    {
      "cell_type": "code",
      "source": [
        "train_df.head()"
      ],
      "metadata": {
        "colab": {
          "base_uri": "https://localhost:8080/",
          "height": 255
        },
        "id": "QdVUmeqLd1LZ",
        "outputId": "5caacf74-b79c-43a4-b57a-dc95292ef173"
      },
      "execution_count": 213,
      "outputs": [
        {
          "output_type": "execute_result",
          "data": {
            "text/plain": [
              "            ID         ip_src  port_src          ip_dst  port_dst protocol  \\\n",
              "0  TRAIN_00000  192.168.10.18    3721.0  192.168.10.243      55.0      UDP   \n",
              "1  TRAIN_00001   192.168.10.5       NaN             NaN      91.0      TCP   \n",
              "2  TRAIN_00002   172.16.0.182       NaN   192.168.10.18      83.0      TCP   \n",
              "3  TRAIN_00003            NaN   47668.0   192.168.10.18       NaN      TCP   \n",
              "4  TRAIN_00004   192.168.10.5   51753.0   151.101.2.116     451.0      TCP   \n",
              "\n",
              "     duration  pkt_count_fwd  pkt_count_bwd  rate_fwd_pkts  ...  \\\n",
              "0    0.000231              2              2    8656.974200  ...   \n",
              "1    0.000000              0              1       0.000000  ...   \n",
              "2    0.606002             11              5      18.151760  ...   \n",
              "3    1.003829              6              6       5.977114  ...   \n",
              "4  181.195271             62             89            NaN  ...   \n",
              "\n",
              "   rate_bwd_bytes  payload_fwd_mean  payload_bwd_mean  tcp_win_fwd_init  \\\n",
              "0    1.142721e+06         81.000000         81.000000                 0   \n",
              "1    0.000000e+00          0.000000          0.000000                 0   \n",
              "2    1.913360e+04        790.125000        790.125000             29200   \n",
              "3    1.155077e+04        993.416667        993.416667             29200   \n",
              "4    6.896758e+02               NaN               NaN              8192   \n",
              "\n",
              "   tcp_win_bwd_init  tcp_syn_count  tcp_psh_count  tcp_rst_count  \\\n",
              "0                 0              0              0              0   \n",
              "1             16392              0              0              0   \n",
              "2             28960              2              4              1   \n",
              "3             28960              3              2              0   \n",
              "4             29200              2             22              0   \n",
              "\n",
              "   iat_avg_packets  attack_type  \n",
              "0              NaN       Benign  \n",
              "1     1.499097e+09       Benign  \n",
              "2     4.040012e-02         Hulk  \n",
              "3     9.125718e-02         Hulk  \n",
              "4              NaN       Benign  \n",
              "\n",
              "[5 rows x 22 columns]"
            ],
            "text/html": [
              "\n",
              "  <div id=\"df-11097d34-f1b5-4c98-9c39-f2bf76ff4df3\" class=\"colab-df-container\">\n",
              "    <div>\n",
              "<style scoped>\n",
              "    .dataframe tbody tr th:only-of-type {\n",
              "        vertical-align: middle;\n",
              "    }\n",
              "\n",
              "    .dataframe tbody tr th {\n",
              "        vertical-align: top;\n",
              "    }\n",
              "\n",
              "    .dataframe thead th {\n",
              "        text-align: right;\n",
              "    }\n",
              "</style>\n",
              "<table border=\"1\" class=\"dataframe\">\n",
              "  <thead>\n",
              "    <tr style=\"text-align: right;\">\n",
              "      <th></th>\n",
              "      <th>ID</th>\n",
              "      <th>ip_src</th>\n",
              "      <th>port_src</th>\n",
              "      <th>ip_dst</th>\n",
              "      <th>port_dst</th>\n",
              "      <th>protocol</th>\n",
              "      <th>duration</th>\n",
              "      <th>pkt_count_fwd</th>\n",
              "      <th>pkt_count_bwd</th>\n",
              "      <th>rate_fwd_pkts</th>\n",
              "      <th>...</th>\n",
              "      <th>rate_bwd_bytes</th>\n",
              "      <th>payload_fwd_mean</th>\n",
              "      <th>payload_bwd_mean</th>\n",
              "      <th>tcp_win_fwd_init</th>\n",
              "      <th>tcp_win_bwd_init</th>\n",
              "      <th>tcp_syn_count</th>\n",
              "      <th>tcp_psh_count</th>\n",
              "      <th>tcp_rst_count</th>\n",
              "      <th>iat_avg_packets</th>\n",
              "      <th>attack_type</th>\n",
              "    </tr>\n",
              "  </thead>\n",
              "  <tbody>\n",
              "    <tr>\n",
              "      <th>0</th>\n",
              "      <td>TRAIN_00000</td>\n",
              "      <td>192.168.10.18</td>\n",
              "      <td>3721.0</td>\n",
              "      <td>192.168.10.243</td>\n",
              "      <td>55.0</td>\n",
              "      <td>UDP</td>\n",
              "      <td>0.000231</td>\n",
              "      <td>2</td>\n",
              "      <td>2</td>\n",
              "      <td>8656.974200</td>\n",
              "      <td>...</td>\n",
              "      <td>1.142721e+06</td>\n",
              "      <td>81.000000</td>\n",
              "      <td>81.000000</td>\n",
              "      <td>0</td>\n",
              "      <td>0</td>\n",
              "      <td>0</td>\n",
              "      <td>0</td>\n",
              "      <td>0</td>\n",
              "      <td>NaN</td>\n",
              "      <td>Benign</td>\n",
              "    </tr>\n",
              "    <tr>\n",
              "      <th>1</th>\n",
              "      <td>TRAIN_00001</td>\n",
              "      <td>192.168.10.5</td>\n",
              "      <td>NaN</td>\n",
              "      <td>NaN</td>\n",
              "      <td>91.0</td>\n",
              "      <td>TCP</td>\n",
              "      <td>0.000000</td>\n",
              "      <td>0</td>\n",
              "      <td>1</td>\n",
              "      <td>0.000000</td>\n",
              "      <td>...</td>\n",
              "      <td>0.000000e+00</td>\n",
              "      <td>0.000000</td>\n",
              "      <td>0.000000</td>\n",
              "      <td>0</td>\n",
              "      <td>16392</td>\n",
              "      <td>0</td>\n",
              "      <td>0</td>\n",
              "      <td>0</td>\n",
              "      <td>1.499097e+09</td>\n",
              "      <td>Benign</td>\n",
              "    </tr>\n",
              "    <tr>\n",
              "      <th>2</th>\n",
              "      <td>TRAIN_00002</td>\n",
              "      <td>172.16.0.182</td>\n",
              "      <td>NaN</td>\n",
              "      <td>192.168.10.18</td>\n",
              "      <td>83.0</td>\n",
              "      <td>TCP</td>\n",
              "      <td>0.606002</td>\n",
              "      <td>11</td>\n",
              "      <td>5</td>\n",
              "      <td>18.151760</td>\n",
              "      <td>...</td>\n",
              "      <td>1.913360e+04</td>\n",
              "      <td>790.125000</td>\n",
              "      <td>790.125000</td>\n",
              "      <td>29200</td>\n",
              "      <td>28960</td>\n",
              "      <td>2</td>\n",
              "      <td>4</td>\n",
              "      <td>1</td>\n",
              "      <td>4.040012e-02</td>\n",
              "      <td>Hulk</td>\n",
              "    </tr>\n",
              "    <tr>\n",
              "      <th>3</th>\n",
              "      <td>TRAIN_00003</td>\n",
              "      <td>NaN</td>\n",
              "      <td>47668.0</td>\n",
              "      <td>192.168.10.18</td>\n",
              "      <td>NaN</td>\n",
              "      <td>TCP</td>\n",
              "      <td>1.003829</td>\n",
              "      <td>6</td>\n",
              "      <td>6</td>\n",
              "      <td>5.977114</td>\n",
              "      <td>...</td>\n",
              "      <td>1.155077e+04</td>\n",
              "      <td>993.416667</td>\n",
              "      <td>993.416667</td>\n",
              "      <td>29200</td>\n",
              "      <td>28960</td>\n",
              "      <td>3</td>\n",
              "      <td>2</td>\n",
              "      <td>0</td>\n",
              "      <td>9.125718e-02</td>\n",
              "      <td>Hulk</td>\n",
              "    </tr>\n",
              "    <tr>\n",
              "      <th>4</th>\n",
              "      <td>TRAIN_00004</td>\n",
              "      <td>192.168.10.5</td>\n",
              "      <td>51753.0</td>\n",
              "      <td>151.101.2.116</td>\n",
              "      <td>451.0</td>\n",
              "      <td>TCP</td>\n",
              "      <td>181.195271</td>\n",
              "      <td>62</td>\n",
              "      <td>89</td>\n",
              "      <td>NaN</td>\n",
              "      <td>...</td>\n",
              "      <td>6.896758e+02</td>\n",
              "      <td>NaN</td>\n",
              "      <td>NaN</td>\n",
              "      <td>8192</td>\n",
              "      <td>29200</td>\n",
              "      <td>2</td>\n",
              "      <td>22</td>\n",
              "      <td>0</td>\n",
              "      <td>NaN</td>\n",
              "      <td>Benign</td>\n",
              "    </tr>\n",
              "  </tbody>\n",
              "</table>\n",
              "<p>5 rows × 22 columns</p>\n",
              "</div>\n",
              "    <div class=\"colab-df-buttons\">\n",
              "\n",
              "  <div class=\"colab-df-container\">\n",
              "    <button class=\"colab-df-convert\" onclick=\"convertToInteractive('df-11097d34-f1b5-4c98-9c39-f2bf76ff4df3')\"\n",
              "            title=\"Convert this dataframe to an interactive table.\"\n",
              "            style=\"display:none;\">\n",
              "\n",
              "  <svg xmlns=\"http://www.w3.org/2000/svg\" height=\"24px\" viewBox=\"0 -960 960 960\">\n",
              "    <path d=\"M120-120v-720h720v720H120Zm60-500h600v-160H180v160Zm220 220h160v-160H400v160Zm0 220h160v-160H400v160ZM180-400h160v-160H180v160Zm440 0h160v-160H620v160ZM180-180h160v-160H180v160Zm440 0h160v-160H620v160Z\"/>\n",
              "  </svg>\n",
              "    </button>\n",
              "\n",
              "  <style>\n",
              "    .colab-df-container {\n",
              "      display:flex;\n",
              "      gap: 12px;\n",
              "    }\n",
              "\n",
              "    .colab-df-convert {\n",
              "      background-color: #E8F0FE;\n",
              "      border: none;\n",
              "      border-radius: 50%;\n",
              "      cursor: pointer;\n",
              "      display: none;\n",
              "      fill: #1967D2;\n",
              "      height: 32px;\n",
              "      padding: 0 0 0 0;\n",
              "      width: 32px;\n",
              "    }\n",
              "\n",
              "    .colab-df-convert:hover {\n",
              "      background-color: #E2EBFA;\n",
              "      box-shadow: 0px 1px 2px rgba(60, 64, 67, 0.3), 0px 1px 3px 1px rgba(60, 64, 67, 0.15);\n",
              "      fill: #174EA6;\n",
              "    }\n",
              "\n",
              "    .colab-df-buttons div {\n",
              "      margin-bottom: 4px;\n",
              "    }\n",
              "\n",
              "    [theme=dark] .colab-df-convert {\n",
              "      background-color: #3B4455;\n",
              "      fill: #D2E3FC;\n",
              "    }\n",
              "\n",
              "    [theme=dark] .colab-df-convert:hover {\n",
              "      background-color: #434B5C;\n",
              "      box-shadow: 0px 1px 3px 1px rgba(0, 0, 0, 0.15);\n",
              "      filter: drop-shadow(0px 1px 2px rgba(0, 0, 0, 0.3));\n",
              "      fill: #FFFFFF;\n",
              "    }\n",
              "  </style>\n",
              "\n",
              "    <script>\n",
              "      const buttonEl =\n",
              "        document.querySelector('#df-11097d34-f1b5-4c98-9c39-f2bf76ff4df3 button.colab-df-convert');\n",
              "      buttonEl.style.display =\n",
              "        google.colab.kernel.accessAllowed ? 'block' : 'none';\n",
              "\n",
              "      async function convertToInteractive(key) {\n",
              "        const element = document.querySelector('#df-11097d34-f1b5-4c98-9c39-f2bf76ff4df3');\n",
              "        const dataTable =\n",
              "          await google.colab.kernel.invokeFunction('convertToInteractive',\n",
              "                                                    [key], {});\n",
              "        if (!dataTable) return;\n",
              "\n",
              "        const docLinkHtml = 'Like what you see? Visit the ' +\n",
              "          '<a target=\"_blank\" href=https://colab.research.google.com/notebooks/data_table.ipynb>data table notebook</a>'\n",
              "          + ' to learn more about interactive tables.';\n",
              "        element.innerHTML = '';\n",
              "        dataTable['output_type'] = 'display_data';\n",
              "        await google.colab.output.renderOutput(dataTable, element);\n",
              "        const docLink = document.createElement('div');\n",
              "        docLink.innerHTML = docLinkHtml;\n",
              "        element.appendChild(docLink);\n",
              "      }\n",
              "    </script>\n",
              "  </div>\n",
              "\n",
              "\n",
              "    <div id=\"df-d54de4c9-3be7-4e43-a3b5-9639a333a600\">\n",
              "      <button class=\"colab-df-quickchart\" onclick=\"quickchart('df-d54de4c9-3be7-4e43-a3b5-9639a333a600')\"\n",
              "                title=\"Suggest charts\"\n",
              "                style=\"display:none;\">\n",
              "\n",
              "<svg xmlns=\"http://www.w3.org/2000/svg\" height=\"24px\"viewBox=\"0 0 24 24\"\n",
              "     width=\"24px\">\n",
              "    <g>\n",
              "        <path d=\"M19 3H5c-1.1 0-2 .9-2 2v14c0 1.1.9 2 2 2h14c1.1 0 2-.9 2-2V5c0-1.1-.9-2-2-2zM9 17H7v-7h2v7zm4 0h-2V7h2v10zm4 0h-2v-4h2v4z\"/>\n",
              "    </g>\n",
              "</svg>\n",
              "      </button>\n",
              "\n",
              "<style>\n",
              "  .colab-df-quickchart {\n",
              "      --bg-color: #E8F0FE;\n",
              "      --fill-color: #1967D2;\n",
              "      --hover-bg-color: #E2EBFA;\n",
              "      --hover-fill-color: #174EA6;\n",
              "      --disabled-fill-color: #AAA;\n",
              "      --disabled-bg-color: #DDD;\n",
              "  }\n",
              "\n",
              "  [theme=dark] .colab-df-quickchart {\n",
              "      --bg-color: #3B4455;\n",
              "      --fill-color: #D2E3FC;\n",
              "      --hover-bg-color: #434B5C;\n",
              "      --hover-fill-color: #FFFFFF;\n",
              "      --disabled-bg-color: #3B4455;\n",
              "      --disabled-fill-color: #666;\n",
              "  }\n",
              "\n",
              "  .colab-df-quickchart {\n",
              "    background-color: var(--bg-color);\n",
              "    border: none;\n",
              "    border-radius: 50%;\n",
              "    cursor: pointer;\n",
              "    display: none;\n",
              "    fill: var(--fill-color);\n",
              "    height: 32px;\n",
              "    padding: 0;\n",
              "    width: 32px;\n",
              "  }\n",
              "\n",
              "  .colab-df-quickchart:hover {\n",
              "    background-color: var(--hover-bg-color);\n",
              "    box-shadow: 0 1px 2px rgba(60, 64, 67, 0.3), 0 1px 3px 1px rgba(60, 64, 67, 0.15);\n",
              "    fill: var(--button-hover-fill-color);\n",
              "  }\n",
              "\n",
              "  .colab-df-quickchart-complete:disabled,\n",
              "  .colab-df-quickchart-complete:disabled:hover {\n",
              "    background-color: var(--disabled-bg-color);\n",
              "    fill: var(--disabled-fill-color);\n",
              "    box-shadow: none;\n",
              "  }\n",
              "\n",
              "  .colab-df-spinner {\n",
              "    border: 2px solid var(--fill-color);\n",
              "    border-color: transparent;\n",
              "    border-bottom-color: var(--fill-color);\n",
              "    animation:\n",
              "      spin 1s steps(1) infinite;\n",
              "  }\n",
              "\n",
              "  @keyframes spin {\n",
              "    0% {\n",
              "      border-color: transparent;\n",
              "      border-bottom-color: var(--fill-color);\n",
              "      border-left-color: var(--fill-color);\n",
              "    }\n",
              "    20% {\n",
              "      border-color: transparent;\n",
              "      border-left-color: var(--fill-color);\n",
              "      border-top-color: var(--fill-color);\n",
              "    }\n",
              "    30% {\n",
              "      border-color: transparent;\n",
              "      border-left-color: var(--fill-color);\n",
              "      border-top-color: var(--fill-color);\n",
              "      border-right-color: var(--fill-color);\n",
              "    }\n",
              "    40% {\n",
              "      border-color: transparent;\n",
              "      border-right-color: var(--fill-color);\n",
              "      border-top-color: var(--fill-color);\n",
              "    }\n",
              "    60% {\n",
              "      border-color: transparent;\n",
              "      border-right-color: var(--fill-color);\n",
              "    }\n",
              "    80% {\n",
              "      border-color: transparent;\n",
              "      border-right-color: var(--fill-color);\n",
              "      border-bottom-color: var(--fill-color);\n",
              "    }\n",
              "    90% {\n",
              "      border-color: transparent;\n",
              "      border-bottom-color: var(--fill-color);\n",
              "    }\n",
              "  }\n",
              "</style>\n",
              "\n",
              "      <script>\n",
              "        async function quickchart(key) {\n",
              "          const quickchartButtonEl =\n",
              "            document.querySelector('#' + key + ' button');\n",
              "          quickchartButtonEl.disabled = true;  // To prevent multiple clicks.\n",
              "          quickchartButtonEl.classList.add('colab-df-spinner');\n",
              "          try {\n",
              "            const charts = await google.colab.kernel.invokeFunction(\n",
              "                'suggestCharts', [key], {});\n",
              "          } catch (error) {\n",
              "            console.error('Error during call to suggestCharts:', error);\n",
              "          }\n",
              "          quickchartButtonEl.classList.remove('colab-df-spinner');\n",
              "          quickchartButtonEl.classList.add('colab-df-quickchart-complete');\n",
              "        }\n",
              "        (() => {\n",
              "          let quickchartButtonEl =\n",
              "            document.querySelector('#df-d54de4c9-3be7-4e43-a3b5-9639a333a600 button');\n",
              "          quickchartButtonEl.style.display =\n",
              "            google.colab.kernel.accessAllowed ? 'block' : 'none';\n",
              "        })();\n",
              "      </script>\n",
              "    </div>\n",
              "\n",
              "    </div>\n",
              "  </div>\n"
            ],
            "application/vnd.google.colaboratory.intrinsic+json": {
              "type": "dataframe",
              "variable_name": "train_df"
            }
          },
          "metadata": {},
          "execution_count": 213
        }
      ]
    },
    {
      "cell_type": "code",
      "source": [
        "test_df.head()"
      ],
      "metadata": {
        "colab": {
          "base_uri": "https://localhost:8080/",
          "height": 255
        },
        "id": "NPG7hafQCT2w",
        "outputId": "0aa3d523-245e-44c0-e487-8a73629d13f3"
      },
      "execution_count": 214,
      "outputs": [
        {
          "output_type": "execute_result",
          "data": {
            "text/plain": [
              "          ID          ip_src  port_src          ip_dst  port_dst protocol  \\\n",
              "0  TEST_0000  192.168.10.243   61955.0  192.168.10.249      55.0      UDP   \n",
              "1  TEST_0001             NaN   53118.0             NaN    2094.0      TCP   \n",
              "2  TEST_0002   192.168.10.43       NaN             NaN      51.0      UDP   \n",
              "3  TEST_0003  192.168.10.243   62431.0  192.168.10.249      61.0      UDP   \n",
              "4  TEST_0004             NaN   62365.0  192.168.10.249      56.0      UDP   \n",
              "\n",
              "     duration  pkt_count_fwd  pkt_count_bwd  rate_fwd_pkts  ...  \\\n",
              "0  351.844741              3              3            NaN  ...   \n",
              "1    0.000063              1              1   15887.515152  ...   \n",
              "2    0.060045              2              2      33.308350  ...   \n",
              "3         NaN              2              2       0.008455  ...   \n",
              "4    0.095316              1              1      10.491425  ...   \n",
              "\n",
              "   rate_fwd_bytes  rate_bwd_bytes  payload_fwd_mean  payload_bwd_mean  \\\n",
              "0        0.409271        0.719067               NaN               NaN   \n",
              "1        0.000000        0.000000              0.00              0.00   \n",
              "2     1299.025647     2231.659444             53.00             53.00   \n",
              "3        0.384714        0.930079             77.75             77.75   \n",
              "4      482.605567     1363.885298             88.00             88.00   \n",
              "\n",
              "   tcp_win_fwd_init  tcp_win_bwd_init  tcp_syn_count  tcp_psh_count  \\\n",
              "0                 0                 0              0              0   \n",
              "1             29200                 0              1              0   \n",
              "2                 0                 0              0              0   \n",
              "3                 0                 0              0              0   \n",
              "4                 0                 0              0              0   \n",
              "\n",
              "   tcp_rst_count  iat_avg_packets  \n",
              "0              0              NaN  \n",
              "1              1              NaN  \n",
              "2              0         0.020015  \n",
              "3              0        78.846374  \n",
              "4              0              NaN  \n",
              "\n",
              "[5 rows x 21 columns]"
            ],
            "text/html": [
              "\n",
              "  <div id=\"df-e368f8cc-0508-4eae-8621-91c3a47ef2d6\" class=\"colab-df-container\">\n",
              "    <div>\n",
              "<style scoped>\n",
              "    .dataframe tbody tr th:only-of-type {\n",
              "        vertical-align: middle;\n",
              "    }\n",
              "\n",
              "    .dataframe tbody tr th {\n",
              "        vertical-align: top;\n",
              "    }\n",
              "\n",
              "    .dataframe thead th {\n",
              "        text-align: right;\n",
              "    }\n",
              "</style>\n",
              "<table border=\"1\" class=\"dataframe\">\n",
              "  <thead>\n",
              "    <tr style=\"text-align: right;\">\n",
              "      <th></th>\n",
              "      <th>ID</th>\n",
              "      <th>ip_src</th>\n",
              "      <th>port_src</th>\n",
              "      <th>ip_dst</th>\n",
              "      <th>port_dst</th>\n",
              "      <th>protocol</th>\n",
              "      <th>duration</th>\n",
              "      <th>pkt_count_fwd</th>\n",
              "      <th>pkt_count_bwd</th>\n",
              "      <th>rate_fwd_pkts</th>\n",
              "      <th>...</th>\n",
              "      <th>rate_fwd_bytes</th>\n",
              "      <th>rate_bwd_bytes</th>\n",
              "      <th>payload_fwd_mean</th>\n",
              "      <th>payload_bwd_mean</th>\n",
              "      <th>tcp_win_fwd_init</th>\n",
              "      <th>tcp_win_bwd_init</th>\n",
              "      <th>tcp_syn_count</th>\n",
              "      <th>tcp_psh_count</th>\n",
              "      <th>tcp_rst_count</th>\n",
              "      <th>iat_avg_packets</th>\n",
              "    </tr>\n",
              "  </thead>\n",
              "  <tbody>\n",
              "    <tr>\n",
              "      <th>0</th>\n",
              "      <td>TEST_0000</td>\n",
              "      <td>192.168.10.243</td>\n",
              "      <td>61955.0</td>\n",
              "      <td>192.168.10.249</td>\n",
              "      <td>55.0</td>\n",
              "      <td>UDP</td>\n",
              "      <td>351.844741</td>\n",
              "      <td>3</td>\n",
              "      <td>3</td>\n",
              "      <td>NaN</td>\n",
              "      <td>...</td>\n",
              "      <td>0.409271</td>\n",
              "      <td>0.719067</td>\n",
              "      <td>NaN</td>\n",
              "      <td>NaN</td>\n",
              "      <td>0</td>\n",
              "      <td>0</td>\n",
              "      <td>0</td>\n",
              "      <td>0</td>\n",
              "      <td>0</td>\n",
              "      <td>NaN</td>\n",
              "    </tr>\n",
              "    <tr>\n",
              "      <th>1</th>\n",
              "      <td>TEST_0001</td>\n",
              "      <td>NaN</td>\n",
              "      <td>53118.0</td>\n",
              "      <td>NaN</td>\n",
              "      <td>2094.0</td>\n",
              "      <td>TCP</td>\n",
              "      <td>0.000063</td>\n",
              "      <td>1</td>\n",
              "      <td>1</td>\n",
              "      <td>15887.515152</td>\n",
              "      <td>...</td>\n",
              "      <td>0.000000</td>\n",
              "      <td>0.000000</td>\n",
              "      <td>0.00</td>\n",
              "      <td>0.00</td>\n",
              "      <td>29200</td>\n",
              "      <td>0</td>\n",
              "      <td>1</td>\n",
              "      <td>0</td>\n",
              "      <td>1</td>\n",
              "      <td>NaN</td>\n",
              "    </tr>\n",
              "    <tr>\n",
              "      <th>2</th>\n",
              "      <td>TEST_0002</td>\n",
              "      <td>192.168.10.43</td>\n",
              "      <td>NaN</td>\n",
              "      <td>NaN</td>\n",
              "      <td>51.0</td>\n",
              "      <td>UDP</td>\n",
              "      <td>0.060045</td>\n",
              "      <td>2</td>\n",
              "      <td>2</td>\n",
              "      <td>33.308350</td>\n",
              "      <td>...</td>\n",
              "      <td>1299.025647</td>\n",
              "      <td>2231.659444</td>\n",
              "      <td>53.00</td>\n",
              "      <td>53.00</td>\n",
              "      <td>0</td>\n",
              "      <td>0</td>\n",
              "      <td>0</td>\n",
              "      <td>0</td>\n",
              "      <td>0</td>\n",
              "      <td>0.020015</td>\n",
              "    </tr>\n",
              "    <tr>\n",
              "      <th>3</th>\n",
              "      <td>TEST_0003</td>\n",
              "      <td>192.168.10.243</td>\n",
              "      <td>62431.0</td>\n",
              "      <td>192.168.10.249</td>\n",
              "      <td>61.0</td>\n",
              "      <td>UDP</td>\n",
              "      <td>NaN</td>\n",
              "      <td>2</td>\n",
              "      <td>2</td>\n",
              "      <td>0.008455</td>\n",
              "      <td>...</td>\n",
              "      <td>0.384714</td>\n",
              "      <td>0.930079</td>\n",
              "      <td>77.75</td>\n",
              "      <td>77.75</td>\n",
              "      <td>0</td>\n",
              "      <td>0</td>\n",
              "      <td>0</td>\n",
              "      <td>0</td>\n",
              "      <td>0</td>\n",
              "      <td>78.846374</td>\n",
              "    </tr>\n",
              "    <tr>\n",
              "      <th>4</th>\n",
              "      <td>TEST_0004</td>\n",
              "      <td>NaN</td>\n",
              "      <td>62365.0</td>\n",
              "      <td>192.168.10.249</td>\n",
              "      <td>56.0</td>\n",
              "      <td>UDP</td>\n",
              "      <td>0.095316</td>\n",
              "      <td>1</td>\n",
              "      <td>1</td>\n",
              "      <td>10.491425</td>\n",
              "      <td>...</td>\n",
              "      <td>482.605567</td>\n",
              "      <td>1363.885298</td>\n",
              "      <td>88.00</td>\n",
              "      <td>88.00</td>\n",
              "      <td>0</td>\n",
              "      <td>0</td>\n",
              "      <td>0</td>\n",
              "      <td>0</td>\n",
              "      <td>0</td>\n",
              "      <td>NaN</td>\n",
              "    </tr>\n",
              "  </tbody>\n",
              "</table>\n",
              "<p>5 rows × 21 columns</p>\n",
              "</div>\n",
              "    <div class=\"colab-df-buttons\">\n",
              "\n",
              "  <div class=\"colab-df-container\">\n",
              "    <button class=\"colab-df-convert\" onclick=\"convertToInteractive('df-e368f8cc-0508-4eae-8621-91c3a47ef2d6')\"\n",
              "            title=\"Convert this dataframe to an interactive table.\"\n",
              "            style=\"display:none;\">\n",
              "\n",
              "  <svg xmlns=\"http://www.w3.org/2000/svg\" height=\"24px\" viewBox=\"0 -960 960 960\">\n",
              "    <path d=\"M120-120v-720h720v720H120Zm60-500h600v-160H180v160Zm220 220h160v-160H400v160Zm0 220h160v-160H400v160ZM180-400h160v-160H180v160Zm440 0h160v-160H620v160ZM180-180h160v-160H180v160Zm440 0h160v-160H620v160Z\"/>\n",
              "  </svg>\n",
              "    </button>\n",
              "\n",
              "  <style>\n",
              "    .colab-df-container {\n",
              "      display:flex;\n",
              "      gap: 12px;\n",
              "    }\n",
              "\n",
              "    .colab-df-convert {\n",
              "      background-color: #E8F0FE;\n",
              "      border: none;\n",
              "      border-radius: 50%;\n",
              "      cursor: pointer;\n",
              "      display: none;\n",
              "      fill: #1967D2;\n",
              "      height: 32px;\n",
              "      padding: 0 0 0 0;\n",
              "      width: 32px;\n",
              "    }\n",
              "\n",
              "    .colab-df-convert:hover {\n",
              "      background-color: #E2EBFA;\n",
              "      box-shadow: 0px 1px 2px rgba(60, 64, 67, 0.3), 0px 1px 3px 1px rgba(60, 64, 67, 0.15);\n",
              "      fill: #174EA6;\n",
              "    }\n",
              "\n",
              "    .colab-df-buttons div {\n",
              "      margin-bottom: 4px;\n",
              "    }\n",
              "\n",
              "    [theme=dark] .colab-df-convert {\n",
              "      background-color: #3B4455;\n",
              "      fill: #D2E3FC;\n",
              "    }\n",
              "\n",
              "    [theme=dark] .colab-df-convert:hover {\n",
              "      background-color: #434B5C;\n",
              "      box-shadow: 0px 1px 3px 1px rgba(0, 0, 0, 0.15);\n",
              "      filter: drop-shadow(0px 1px 2px rgba(0, 0, 0, 0.3));\n",
              "      fill: #FFFFFF;\n",
              "    }\n",
              "  </style>\n",
              "\n",
              "    <script>\n",
              "      const buttonEl =\n",
              "        document.querySelector('#df-e368f8cc-0508-4eae-8621-91c3a47ef2d6 button.colab-df-convert');\n",
              "      buttonEl.style.display =\n",
              "        google.colab.kernel.accessAllowed ? 'block' : 'none';\n",
              "\n",
              "      async function convertToInteractive(key) {\n",
              "        const element = document.querySelector('#df-e368f8cc-0508-4eae-8621-91c3a47ef2d6');\n",
              "        const dataTable =\n",
              "          await google.colab.kernel.invokeFunction('convertToInteractive',\n",
              "                                                    [key], {});\n",
              "        if (!dataTable) return;\n",
              "\n",
              "        const docLinkHtml = 'Like what you see? Visit the ' +\n",
              "          '<a target=\"_blank\" href=https://colab.research.google.com/notebooks/data_table.ipynb>data table notebook</a>'\n",
              "          + ' to learn more about interactive tables.';\n",
              "        element.innerHTML = '';\n",
              "        dataTable['output_type'] = 'display_data';\n",
              "        await google.colab.output.renderOutput(dataTable, element);\n",
              "        const docLink = document.createElement('div');\n",
              "        docLink.innerHTML = docLinkHtml;\n",
              "        element.appendChild(docLink);\n",
              "      }\n",
              "    </script>\n",
              "  </div>\n",
              "\n",
              "\n",
              "    <div id=\"df-92d536c3-a5e1-463e-a723-85743f0902cc\">\n",
              "      <button class=\"colab-df-quickchart\" onclick=\"quickchart('df-92d536c3-a5e1-463e-a723-85743f0902cc')\"\n",
              "                title=\"Suggest charts\"\n",
              "                style=\"display:none;\">\n",
              "\n",
              "<svg xmlns=\"http://www.w3.org/2000/svg\" height=\"24px\"viewBox=\"0 0 24 24\"\n",
              "     width=\"24px\">\n",
              "    <g>\n",
              "        <path d=\"M19 3H5c-1.1 0-2 .9-2 2v14c0 1.1.9 2 2 2h14c1.1 0 2-.9 2-2V5c0-1.1-.9-2-2-2zM9 17H7v-7h2v7zm4 0h-2V7h2v10zm4 0h-2v-4h2v4z\"/>\n",
              "    </g>\n",
              "</svg>\n",
              "      </button>\n",
              "\n",
              "<style>\n",
              "  .colab-df-quickchart {\n",
              "      --bg-color: #E8F0FE;\n",
              "      --fill-color: #1967D2;\n",
              "      --hover-bg-color: #E2EBFA;\n",
              "      --hover-fill-color: #174EA6;\n",
              "      --disabled-fill-color: #AAA;\n",
              "      --disabled-bg-color: #DDD;\n",
              "  }\n",
              "\n",
              "  [theme=dark] .colab-df-quickchart {\n",
              "      --bg-color: #3B4455;\n",
              "      --fill-color: #D2E3FC;\n",
              "      --hover-bg-color: #434B5C;\n",
              "      --hover-fill-color: #FFFFFF;\n",
              "      --disabled-bg-color: #3B4455;\n",
              "      --disabled-fill-color: #666;\n",
              "  }\n",
              "\n",
              "  .colab-df-quickchart {\n",
              "    background-color: var(--bg-color);\n",
              "    border: none;\n",
              "    border-radius: 50%;\n",
              "    cursor: pointer;\n",
              "    display: none;\n",
              "    fill: var(--fill-color);\n",
              "    height: 32px;\n",
              "    padding: 0;\n",
              "    width: 32px;\n",
              "  }\n",
              "\n",
              "  .colab-df-quickchart:hover {\n",
              "    background-color: var(--hover-bg-color);\n",
              "    box-shadow: 0 1px 2px rgba(60, 64, 67, 0.3), 0 1px 3px 1px rgba(60, 64, 67, 0.15);\n",
              "    fill: var(--button-hover-fill-color);\n",
              "  }\n",
              "\n",
              "  .colab-df-quickchart-complete:disabled,\n",
              "  .colab-df-quickchart-complete:disabled:hover {\n",
              "    background-color: var(--disabled-bg-color);\n",
              "    fill: var(--disabled-fill-color);\n",
              "    box-shadow: none;\n",
              "  }\n",
              "\n",
              "  .colab-df-spinner {\n",
              "    border: 2px solid var(--fill-color);\n",
              "    border-color: transparent;\n",
              "    border-bottom-color: var(--fill-color);\n",
              "    animation:\n",
              "      spin 1s steps(1) infinite;\n",
              "  }\n",
              "\n",
              "  @keyframes spin {\n",
              "    0% {\n",
              "      border-color: transparent;\n",
              "      border-bottom-color: var(--fill-color);\n",
              "      border-left-color: var(--fill-color);\n",
              "    }\n",
              "    20% {\n",
              "      border-color: transparent;\n",
              "      border-left-color: var(--fill-color);\n",
              "      border-top-color: var(--fill-color);\n",
              "    }\n",
              "    30% {\n",
              "      border-color: transparent;\n",
              "      border-left-color: var(--fill-color);\n",
              "      border-top-color: var(--fill-color);\n",
              "      border-right-color: var(--fill-color);\n",
              "    }\n",
              "    40% {\n",
              "      border-color: transparent;\n",
              "      border-right-color: var(--fill-color);\n",
              "      border-top-color: var(--fill-color);\n",
              "    }\n",
              "    60% {\n",
              "      border-color: transparent;\n",
              "      border-right-color: var(--fill-color);\n",
              "    }\n",
              "    80% {\n",
              "      border-color: transparent;\n",
              "      border-right-color: var(--fill-color);\n",
              "      border-bottom-color: var(--fill-color);\n",
              "    }\n",
              "    90% {\n",
              "      border-color: transparent;\n",
              "      border-bottom-color: var(--fill-color);\n",
              "    }\n",
              "  }\n",
              "</style>\n",
              "\n",
              "      <script>\n",
              "        async function quickchart(key) {\n",
              "          const quickchartButtonEl =\n",
              "            document.querySelector('#' + key + ' button');\n",
              "          quickchartButtonEl.disabled = true;  // To prevent multiple clicks.\n",
              "          quickchartButtonEl.classList.add('colab-df-spinner');\n",
              "          try {\n",
              "            const charts = await google.colab.kernel.invokeFunction(\n",
              "                'suggestCharts', [key], {});\n",
              "          } catch (error) {\n",
              "            console.error('Error during call to suggestCharts:', error);\n",
              "          }\n",
              "          quickchartButtonEl.classList.remove('colab-df-spinner');\n",
              "          quickchartButtonEl.classList.add('colab-df-quickchart-complete');\n",
              "        }\n",
              "        (() => {\n",
              "          let quickchartButtonEl =\n",
              "            document.querySelector('#df-92d536c3-a5e1-463e-a723-85743f0902cc button');\n",
              "          quickchartButtonEl.style.display =\n",
              "            google.colab.kernel.accessAllowed ? 'block' : 'none';\n",
              "        })();\n",
              "      </script>\n",
              "    </div>\n",
              "\n",
              "    </div>\n",
              "  </div>\n"
            ],
            "application/vnd.google.colaboratory.intrinsic+json": {
              "type": "dataframe",
              "variable_name": "test_df"
            }
          },
          "metadata": {},
          "execution_count": 214
        }
      ]
    },
    {
      "cell_type": "code",
      "source": [
        "train_df.info()"
      ],
      "metadata": {
        "colab": {
          "base_uri": "https://localhost:8080/"
        },
        "id": "Td92FKFlE1Kd",
        "outputId": "33d68ad6-1690-4e24-f9db-7524378244bd"
      },
      "execution_count": 215,
      "outputs": [
        {
          "output_type": "stream",
          "name": "stdout",
          "text": [
            "<class 'pandas.core.frame.DataFrame'>\n",
            "RangeIndex: 11999 entries, 0 to 11998\n",
            "Data columns (total 22 columns):\n",
            " #   Column            Non-Null Count  Dtype  \n",
            "---  ------            --------------  -----  \n",
            " 0   ID                11999 non-null  object \n",
            " 1   ip_src            9487 non-null   object \n",
            " 2   port_src          8625 non-null   float64\n",
            " 3   ip_dst            10695 non-null  object \n",
            " 4   port_dst          9712 non-null   float64\n",
            " 5   protocol          11999 non-null  object \n",
            " 6   duration          10925 non-null  float64\n",
            " 7   pkt_count_fwd     11999 non-null  int64  \n",
            " 8   pkt_count_bwd     11999 non-null  int64  \n",
            " 9   rate_fwd_pkts     10828 non-null  float64\n",
            " 10  rate_bwd_pkts     10312 non-null  float64\n",
            " 11  rate_fwd_bytes    11999 non-null  float64\n",
            " 12  rate_bwd_bytes    11999 non-null  float64\n",
            " 13  payload_fwd_mean  10214 non-null  float64\n",
            " 14  payload_bwd_mean  10214 non-null  float64\n",
            " 15  tcp_win_fwd_init  11999 non-null  int64  \n",
            " 16  tcp_win_bwd_init  11999 non-null  int64  \n",
            " 17  tcp_syn_count     11999 non-null  int64  \n",
            " 18  tcp_psh_count     11999 non-null  int64  \n",
            " 19  tcp_rst_count     11999 non-null  int64  \n",
            " 20  iat_avg_packets   9239 non-null   float64\n",
            " 21  attack_type       11999 non-null  object \n",
            "dtypes: float64(10), int64(7), object(5)\n",
            "memory usage: 2.0+ MB\n"
          ]
        }
      ]
    },
    {
      "cell_type": "code",
      "source": [
        "test_df.info()"
      ],
      "metadata": {
        "id": "v_cTN-eYE1Mz",
        "colab": {
          "base_uri": "https://localhost:8080/"
        },
        "outputId": "cabf88c1-1e03-4071-d557-33870fdea9b3"
      },
      "execution_count": 216,
      "outputs": [
        {
          "output_type": "stream",
          "name": "stdout",
          "text": [
            "<class 'pandas.core.frame.DataFrame'>\n",
            "RangeIndex: 3000 entries, 0 to 2999\n",
            "Data columns (total 21 columns):\n",
            " #   Column            Non-Null Count  Dtype  \n",
            "---  ------            --------------  -----  \n",
            " 0   ID                3000 non-null   object \n",
            " 1   ip_src            2363 non-null   object \n",
            " 2   port_src          2175 non-null   float64\n",
            " 3   ip_dst            2655 non-null   object \n",
            " 4   port_dst          2438 non-null   float64\n",
            " 5   protocol          3000 non-null   object \n",
            " 6   duration          2725 non-null   float64\n",
            " 7   pkt_count_fwd     3000 non-null   int64  \n",
            " 8   pkt_count_bwd     3000 non-null   int64  \n",
            " 9   rate_fwd_pkts     2672 non-null   float64\n",
            " 10  rate_bwd_pkts     2588 non-null   float64\n",
            " 11  rate_fwd_bytes    3000 non-null   float64\n",
            " 12  rate_bwd_bytes    3000 non-null   float64\n",
            " 13  payload_fwd_mean  2536 non-null   float64\n",
            " 14  payload_bwd_mean  2536 non-null   float64\n",
            " 15  tcp_win_fwd_init  3000 non-null   int64  \n",
            " 16  tcp_win_bwd_init  3000 non-null   int64  \n",
            " 17  tcp_syn_count     3000 non-null   int64  \n",
            " 18  tcp_psh_count     3000 non-null   int64  \n",
            " 19  tcp_rst_count     3000 non-null   int64  \n",
            " 20  iat_avg_packets   2311 non-null   float64\n",
            "dtypes: float64(10), int64(7), object(4)\n",
            "memory usage: 492.3+ KB\n"
          ]
        }
      ]
    },
    {
      "cell_type": "markdown",
      "source": [
        "# 전처리"
      ],
      "metadata": {
        "id": "4pG5JhkbRvmg"
      }
    },
    {
      "cell_type": "code",
      "source": [
        "train = train_df.copy() ## 데이터 복사\n",
        "test = test_df.copy()"
      ],
      "metadata": {
        "id": "GvSzvw8geArS"
      },
      "execution_count": 217,
      "outputs": []
    },
    {
      "cell_type": "markdown",
      "source": [
        "## payload 결측치 관련 파생변수"
      ],
      "metadata": {
        "id": "9Xy2qjo6siGP"
      }
    },
    {
      "cell_type": "code",
      "source": [
        "# payload 결측치 플래그\n",
        "train['payload_bwd_missing_flag'] = train['payload_bwd_mean'].isna().astype(int)\n",
        "test['payload_bwd_missing_flag'] = test['payload_bwd_mean'].isna().astype(int)"
      ],
      "metadata": {
        "id": "67Cqdqe_shuQ"
      },
      "execution_count": 218,
      "outputs": []
    },
    {
      "cell_type": "markdown",
      "source": [
        "## 결측치 처리"
      ],
      "metadata": {
        "id": "64u3OpG3Njtz"
      }
    },
    {
      "cell_type": "code",
      "source": [
        "#=============================================================================\n",
        "# 포트 변수 변수 => -1\n",
        "# payload, rate, iat_avg_packets, duration, => 중앙값\n",
        "#=============================================================================\n",
        "\n",
        "train['port_src'].fillna(-1, inplace=True) # -1 대체\n",
        "train['port_dst'].fillna(-1, inplace=True)\n",
        "\n",
        "payload_bwd_median = train['payload_bwd_mean'].median() # 중앙값 대체\n",
        "train['payload_bwd_mean'].fillna(payload_bwd_median, inplace=True)\n",
        "\n",
        "payload_fwd_median = train['payload_fwd_mean'].median()\n",
        "train['payload_fwd_mean'].fillna(payload_fwd_median, inplace=True)\n",
        "\n",
        "iat_median = train['iat_avg_packets'].median()\n",
        "train['iat_avg_packets'].fillna(iat_median, inplace=True)\n",
        "\n",
        "duration_median = train['duration'].median()\n",
        "train['duration'].fillna(duration_median, inplace=True)\n",
        "\n",
        "rate_fwd_median = train['rate_fwd_pkts'].median()\n",
        "train['rate_fwd_pkts'].fillna(rate_fwd_median, inplace=True)\n",
        "\n",
        "rate_bwd_median = train['rate_bwd_pkts'].median()\n",
        "train['rate_bwd_pkts'].fillna(rate_bwd_median, inplace=True)"
      ],
      "metadata": {
        "id": "L2h7yWqLNqUJ"
      },
      "execution_count": 219,
      "outputs": []
    },
    {
      "cell_type": "code",
      "source": [
        "test['port_src'].fillna(-1, inplace=True) # -1 대체\n",
        "test['port_dst'].fillna(-1, inplace=True)\n",
        "\n",
        "payload_bwd_median = test['payload_bwd_mean'].median() # 중앙값 대체\n",
        "test['payload_bwd_mean'].fillna(payload_bwd_median, inplace=True)\n",
        "\n",
        "payload_fwd_median = test['payload_fwd_mean'].median()\n",
        "test['payload_fwd_mean'].fillna(payload_fwd_median, inplace=True)\n",
        "\n",
        "iat_median = test['iat_avg_packets'].median()\n",
        "test['iat_avg_packets'].fillna(iat_median, inplace=True)\n",
        "\n",
        "duration_median = test['duration'].median()\n",
        "test['duration'].fillna(duration_median, inplace=True)\n",
        "\n",
        "rate_fwd_median = test['rate_fwd_pkts'].median()\n",
        "test['rate_fwd_pkts'].fillna(rate_fwd_median, inplace=True)\n",
        "\n",
        "rate_bwd_median = test['rate_bwd_pkts'].median()\n",
        "test['rate_bwd_pkts'].fillna(rate_bwd_median, inplace=True)"
      ],
      "metadata": {
        "id": "wqQBx7TrK6OU"
      },
      "execution_count": 220,
      "outputs": []
    },
    {
      "cell_type": "markdown",
      "source": [
        "## 값 기반 범주화"
      ],
      "metadata": {
        "id": "c3gI8kvxTOrW"
      }
    },
    {
      "cell_type": "code",
      "source": [
        "#=============================================================================\n",
        "# tcp_syn_count => 3개로 범주화\n",
        "#=============================================================================\n",
        "\n",
        "def categorize_syn(x):\n",
        "    if x == 0:\n",
        "        return 0  # 정상\n",
        "    elif x in [1, 2]:\n",
        "        return 1  # 약간의 SYN 요청\n",
        "    else:\n",
        "        return 2  # SYN Flooding 가능성\n",
        "\n",
        "train['syn_flag_cat'] = train['tcp_syn_count'].apply(categorize_syn)\n",
        "test['syn_flag_cat'] = test['tcp_syn_count'].apply(categorize_syn)"
      ],
      "metadata": {
        "id": "3bO9KnoqTy7S"
      },
      "execution_count": 221,
      "outputs": []
    },
    {
      "cell_type": "code",
      "source": [
        "# port_dst>1023 데이터 중 상위 5개 포트 추출\n",
        "dst_port_high = train[train['port_dst'] > 1023]['port_dst']\n",
        "top5_ports = dst_port_high.value_counts().nlargest(5).index\n",
        "\n",
        "def categorize_port_dst(p):\n",
        "    if p <= 1023:\n",
        "        return str(int(p))  # 0~1023은 그대로\n",
        "    elif p in top5_ports:\n",
        "        return f'special_{int(p)}' # 1024, 8072, 49152, 8079, 2602\n",
        "    else:\n",
        "        return 'other'\n",
        "\n",
        "train['port_dst_cat'] = train['port_dst'].apply(categorize_port_dst)\n",
        "\n",
        "dst_port_high_test = test[test['port_dst'] > 1023]['port_dst']\n",
        "top5_ports_test = dst_port_high_test.value_counts().nlargest(5).index\n",
        "\n",
        "def categorize_port_dst_test(p):\n",
        "    if p <= 1023:\n",
        "        return str(int(p))  # 0~1023은 그대로\n",
        "    elif p in top5_ports_test:\n",
        "        return f'special_{int(p)}' # 1024, 8072, 49152, 8079, 2602\n",
        "    else:\n",
        "        return 'other'\n",
        "\n",
        "test['port_dst_cat'] = test['port_dst'].apply(categorize_port_dst_test)"
      ],
      "metadata": {
        "id": "CjxZ9wuHVAlM"
      },
      "execution_count": 222,
      "outputs": []
    },
    {
      "cell_type": "markdown",
      "source": [
        "## 추가 파생변수"
      ],
      "metadata": {
        "id": "QkPw1xkfg9j-"
      }
    },
    {
      "cell_type": "markdown",
      "source": [
        "송수신 TCP 윈도우 초기값의 비율"
      ],
      "metadata": {
        "id": "qqUWvBotPCf3"
      }
    },
    {
      "cell_type": "code",
      "source": [
        "train['TCP_win_ratio'] = train['tcp_win_fwd_init'] / (train['tcp_win_bwd_init'] + 1e-5) # 0으로 나누는 것 방지\n",
        "test['TCP_win_ratio'] = test['tcp_win_fwd_init'] / (test['tcp_win_bwd_init'] + 1e-5)"
      ],
      "metadata": {
        "id": "ClmUtRPgAIwb"
      },
      "execution_count": 224,
      "outputs": []
    },
    {
      "cell_type": "markdown",
      "source": [
        "패킷 간 평균 간격 시간이 극단적으로 짧거나 긴 파생변수"
      ],
      "metadata": {
        "id": "WUkNP9QQO-07"
      }
    },
    {
      "cell_type": "code",
      "source": [
        "Q1 = train['iat_avg_packets'].quantile(0.25)\n",
        "Q3 = train['iat_avg_packets'].quantile(0.75)\n",
        "IQR = Q3 - Q1\n",
        "\n",
        "low_threshold = Q1 - 1.5 * IQR\n",
        "high_threshold = Q3 + 1.5 * IQR\n",
        "\n",
        "train['is_iat_low'] = (train['iat_avg_packets'] < low_threshold).astype(int)\n",
        "train['is_iat_high'] = (train['iat_avg_packets'] > high_threshold).astype(int)\n",
        "\n",
        "Q1 = test['iat_avg_packets'].quantile(0.25)\n",
        "Q3 = test['iat_avg_packets'].quantile(0.75)\n",
        "IQR = Q3 - Q1\n",
        "\n",
        "low_threshold = Q1 - 1.5 * IQR\n",
        "high_threshold = Q3 + 1.5 * IQR\n",
        "\n",
        "test['is_iat_low'] = (test['iat_avg_packets'] < low_threshold).astype(int)\n",
        "test['is_iat_high'] = (test['iat_avg_packets'] > high_threshold).astype(int)"
      ],
      "metadata": {
        "id": "8xhN2zp-Bim0"
      },
      "execution_count": 225,
      "outputs": []
    },
    {
      "cell_type": "markdown",
      "source": [
        "송신자의 ip주소의 빈도 수가 100을 넘는 파생변수"
      ],
      "metadata": {
        "id": "UMIqJ08IO5pq"
      }
    },
    {
      "cell_type": "code",
      "source": [
        "import numpy as np\n",
        "\n",
        "ip_counts = train['ip_src'].value_counts()\n",
        "ip_over_100 = ip_counts[ip_counts > 100].index\n",
        "train['ip_src_over_100'] = train['ip_src'].isin(ip_over_100).astype(int)\n",
        "\n",
        "ip_counts = test['ip_src'].value_counts()\n",
        "ip_over_100 = ip_counts[ip_counts > 100].index\n",
        "test['ip_src_over_100'] = test['ip_src'].isin(ip_over_100).astype(int)"
      ],
      "metadata": {
        "id": "3mwb7aJQEBYz"
      },
      "execution_count": 226,
      "outputs": []
    },
    {
      "cell_type": "markdown",
      "source": [
        "TCP push packet의 수가 극단적으로 많은 파생변수"
      ],
      "metadata": {
        "id": "Do7ebk0GO1wC"
      }
    },
    {
      "cell_type": "code",
      "source": [
        "Q1 = train['tcp_psh_count'].quantile(0.25)\n",
        "Q3 = train['tcp_psh_count'].quantile(0.75)\n",
        "IQR = Q3 - Q1\n",
        "\n",
        "threshold = Q3 + 1.5 * IQR\n",
        "\n",
        "train['tcp_psh_anomaly'] = (train['tcp_psh_count'] > threshold).astype(int)\n",
        "\n",
        "Q1 = test['tcp_psh_count'].quantile(0.25)\n",
        "Q3 = test['tcp_psh_count'].quantile(0.75)\n",
        "IQR = Q3 - Q1\n",
        "\n",
        "threshold = Q3 + 1.5 * IQR\n",
        "\n",
        "test['tcp_psh_anomaly'] = (test['tcp_psh_count'] > threshold).astype(int)"
      ],
      "metadata": {
        "id": "wwHprPhkJn6a"
      },
      "execution_count": 227,
      "outputs": []
    },
    {
      "cell_type": "markdown",
      "source": [
        "duration이 극단적으로 긴 파생변수"
      ],
      "metadata": {
        "id": "ABbgb2fGOxCo"
      }
    },
    {
      "cell_type": "code",
      "source": [
        "Q1 = train['duration'].quantile(0.25)\n",
        "Q3 = train['duration'].quantile(0.75)\n",
        "IQR = Q3 - Q1\n",
        "\n",
        "train['is_duration_long'] = (train['duration'] > Q3 + 1.5 * IQR).astype(int)\n",
        "\n",
        "Q1 = test['duration'].quantile(0.25)\n",
        "Q3 = test['duration'].quantile(0.75)\n",
        "IQR = Q3 - Q1\n",
        "\n",
        "test['is_duration_long'] = (test['duration'] > Q3 + 1.5 * IQR).astype(int)"
      ],
      "metadata": {
        "id": "usrZTnSwOE3A"
      },
      "execution_count": 228,
      "outputs": []
    },
    {
      "cell_type": "markdown",
      "source": [
        "duration 대비 전송량 (속도 개념)"
      ],
      "metadata": {
        "id": "8XQ5dv7FOvMx"
      }
    },
    {
      "cell_type": "code",
      "source": [
        "# 송신 전송량\n",
        "bytes_fwd = train['pkt_count_fwd'] * train['payload_fwd_mean']\n",
        "# 수신 전송량\n",
        "bytes_bwd = train['pkt_count_bwd'] * train['payload_bwd_mean']\n",
        "\n",
        "# 전체 전송량\n",
        "total_bytes = bytes_fwd + bytes_bwd\n",
        "\n",
        "# duration 대비 전송량 (초당 전송 바이트)\n",
        "train['bytes_per_sec'] = total_bytes / (train['duration'] + 1e-5)  # ZeroDivision 방지"
      ],
      "metadata": {
        "id": "b6CvcCQFOIl9"
      },
      "execution_count": 229,
      "outputs": []
    },
    {
      "cell_type": "code",
      "source": [
        "# 송신 전송량\n",
        "bytes_fwd_test = test['pkt_count_fwd'] * test['payload_fwd_mean']\n",
        "# 수신 전송량\n",
        "bytes_bwd_test = test['pkt_count_bwd'] * test['payload_bwd_mean']\n",
        "\n",
        "# 전체 전송량\n",
        "total_bytes_test = bytes_fwd + bytes_bwd\n",
        "\n",
        "# duration 대비 전송량 (초당 전송 바이트)\n",
        "test['bytes_per_sec'] = total_bytes_test / (test['duration'] + 1e-5)  # ZeroDivision 방지"
      ],
      "metadata": {
        "id": "ZgBAJG0RPdrX"
      },
      "execution_count": 230,
      "outputs": []
    },
    {
      "cell_type": "markdown",
      "source": [
        "duration 대비 패킷 수 (패킷 밀도)"
      ],
      "metadata": {
        "id": "pvksqchNOwsP"
      }
    },
    {
      "cell_type": "code",
      "source": [
        "# 전체 패킷 수\n",
        "total_packets = train['pkt_count_fwd'] + train['pkt_count_bwd']\n",
        "\n",
        "# 초당 패킷 수 (패킷 밀도)\n",
        "train['packets_per_sec'] = total_packets / (train['duration'] + 1e-5)"
      ],
      "metadata": {
        "id": "QQjCvn8xPOwx"
      },
      "execution_count": 231,
      "outputs": []
    },
    {
      "cell_type": "code",
      "source": [
        "# 전체 패킷 수\n",
        "total_packets_test = test['pkt_count_fwd'] + test['pkt_count_bwd']\n",
        "\n",
        "# 초당 패킷 수 (패킷 밀도)\n",
        "test['packets_per_sec'] = total_packets_test / (test['duration'] + 1e-5)"
      ],
      "metadata": {
        "id": "Ewg4FnHJPlCl"
      },
      "execution_count": 232,
      "outputs": []
    },
    {
      "cell_type": "code",
      "source": [
        "# 초당 패킷 전송 비율 = rate_fwd_pkts / rate_bwd_pkts\n",
        "train['rate_pkts_ratio'] = train['rate_fwd_pkts'] / (train['rate_bwd_pkts'] + 1e-5) # 0으로 나누는 것 방지\n",
        "test['rate_pkts_ratio'] = test['rate_fwd_pkts'] / (test['rate_bwd_pkts'] + 1e-5)\n",
        "\n",
        "# 송수신 패킷 비율 = pkt_count_fwd / pkt_count_bwd\n",
        "train['pkt_count_ratio'] = train['pkt_count_fwd'] / (train['pkt_count_bwd'] + 1e-5)\n",
        "test['pkt_count_ratio'] = test['pkt_count_fwd'] / (test['pkt_count_bwd'] + 1e-5)\n",
        "\n",
        "train.drop(['tcp_psh_count','rate_fwd_pkts','rate_bwd_pkts',\n",
        "            'pkt_count_fwd','pkt_count_bwd'], axis=1, inplace=True) ## 불필요한 기존변수삭제\n",
        "test.drop(['tcp_psh_count','rate_fwd_pkts','rate_bwd_pkts',\n",
        "            'pkt_count_fwd','pkt_count_bwd'], axis=1, inplace=True)"
      ],
      "metadata": {
        "id": "TMlGkgZ8g_ZL"
      },
      "execution_count": 233,
      "outputs": []
    },
    {
      "cell_type": "markdown",
      "source": [
        "## 변수 삭제"
      ],
      "metadata": {
        "id": "VJC5sOc-QGw0"
      }
    },
    {
      "cell_type": "code",
      "source": [
        "#=============================================================================\n",
        "# ID, ip_scr, ip_dst, port_src\n",
        "# payload_fwd_mean (bwd와 겹치는 칼럼)\n",
        "#=============================================================================\n",
        "\n",
        "train.drop(['ID','ip_src','ip_dst','payload_fwd_mean','port_src','port_dst','tcp_syn_count'], axis=1, inplace=True)\n",
        "test.drop(['ID','ip_src','ip_dst','payload_fwd_mean','port_src','port_dst','tcp_syn_count'], axis=1, inplace=True)"
      ],
      "metadata": {
        "id": "hb7tDkFhloH3",
        "collapsed": true
      },
      "execution_count": 234,
      "outputs": []
    },
    {
      "cell_type": "markdown",
      "source": [
        "## 로그변환"
      ],
      "metadata": {
        "id": "EkBvxnRIucYR"
      }
    },
    {
      "cell_type": "code",
      "source": [
        "import numpy as np\n",
        "\n",
        "log_cols = [\n",
        "    'duration',\n",
        "    'rate_fwd_bytes',\n",
        "    'rate_bwd_bytes',\n",
        "    'payload_bwd_mean',\n",
        "    'tcp_rst_count',\n",
        "    'tcp_win_fwd_init',\n",
        "    'tcp_win_bwd_init',\n",
        "    'iat_avg_packets',\n",
        "    'rate_pkts_ratio',\n",
        "    'pkt_count_ratio',\n",
        "    'TCP_win_ratio',\n",
        "    'packets_per_sec',\n",
        "    'bytes_per_sec'\n",
        "]\n",
        "\n",
        "for col in log_cols:\n",
        "    train[col] = np.log1p(train[col])\n",
        "\n",
        "for col in log_cols:\n",
        "    test[col] = np.log1p(test[col])"
      ],
      "metadata": {
        "id": "VUYum6k_26Ap"
      },
      "execution_count": 235,
      "outputs": []
    },
    {
      "cell_type": "markdown",
      "source": [
        "## 스케일링"
      ],
      "metadata": {
        "id": "l0SzYrE-33OD"
      }
    },
    {
      "cell_type": "code",
      "source": [
        "from sklearn.preprocessing import StandardScaler\n",
        "\n",
        "scale_cols = [\n",
        "    'duration',\n",
        "    'rate_fwd_bytes',\n",
        "    'rate_bwd_bytes',\n",
        "    'payload_bwd_mean',\n",
        "    'tcp_rst_count',\n",
        "    'tcp_win_fwd_init',\n",
        "    'tcp_win_bwd_init',\n",
        "    'iat_avg_packets',\n",
        "    'rate_pkts_ratio',\n",
        "    'pkt_count_ratio',\n",
        "    'TCP_win_ratio',\n",
        "    'packets_per_sec',\n",
        "    'bytes_per_sec'\n",
        "]\n",
        "\n",
        "# 스케일러 객체 생성\n",
        "scaler = StandardScaler()\n",
        "\n",
        "# 스케일링 적용\n",
        "train[scale_cols] = scaler.fit_transform(train[scale_cols])\n",
        "test[scale_cols] = scaler.transform(test[scale_cols])"
      ],
      "metadata": {
        "id": "gR_94xmp32Gn"
      },
      "execution_count": 236,
      "outputs": []
    },
    {
      "cell_type": "markdown",
      "source": [
        "## LabelEncoding"
      ],
      "metadata": {
        "id": "rc35NryV5MdB"
      }
    },
    {
      "cell_type": "code",
      "source": [
        "from sklearn.preprocessing import LabelEncoder\n",
        "\n",
        "# target 변수\n",
        "le_attack = LabelEncoder()\n",
        "train['attack_type'] = le_attack.fit_transform(train['attack_type']) # attack_type is only in train\n",
        "\n",
        "# Feature\n",
        "le_post = LabelEncoder()\n",
        "le_post.fit(pd.concat([train['port_dst_cat'], test['port_dst_cat']], axis=0).astype(str).unique())\n",
        "train['port_dst_cat'] = le_post.transform(train['port_dst_cat'].astype(str))\n",
        "test['port_dst_cat'] = le_post.transform(test['port_dst_cat'].astype(str))\n",
        "\n",
        "le = LabelEncoder()\n",
        "train['is_iat_low'] = le.fit_transform(train['is_iat_low'])\n",
        "train['is_iat_high'] = le.fit_transform(train['is_iat_high'])\n",
        "train['tcp_psh_anomaly'] = le.fit_transform(train['tcp_psh_anomaly'])\n",
        "train['ip_src_over_100'] = le.fit_transform(train['ip_src_over_100'])\n",
        "train['is_duration_long'] = le.fit_transform(train['is_duration_long'])\n",
        "\n",
        "test['is_iat_low'] = le.fit_transform(test['is_iat_low'])\n",
        "test['is_iat_high'] = le.fit_transform(test['is_iat_high'])\n",
        "test['tcp_psh_anomaly'] = le.fit_transform(test['tcp_psh_anomaly'])\n",
        "test['ip_src_over_100'] = le.fit_transform(test['ip_src_over_100'])\n",
        "test['is_duration_long'] = le.fit_transform(test['is_duration_long'])"
      ],
      "metadata": {
        "id": "cg-Qbr2y70at"
      },
      "execution_count": 237,
      "outputs": []
    },
    {
      "cell_type": "markdown",
      "source": [
        "## One-Hot Encoding"
      ],
      "metadata": {
        "id": "uVLCBqijG02D"
      }
    },
    {
      "cell_type": "code",
      "source": [
        "train = pd.get_dummies(data=train, columns=['protocol'],\n",
        "                       prefix=['protocol'])\n",
        "test = pd.get_dummies(data=test, columns=['protocol'],\n",
        "                       prefix=['protocol'])"
      ],
      "metadata": {
        "id": "CcnFFLv5G2mE"
      },
      "execution_count": 238,
      "outputs": []
    },
    {
      "cell_type": "code",
      "source": [
        "train = train.drop(columns=['protocol_UDP'],axis=1)\n",
        "test = test.drop(columns=['protocol_UDP'],axis=1)"
      ],
      "metadata": {
        "id": "ORkAD8wbVMnV"
      },
      "execution_count": 239,
      "outputs": []
    },
    {
      "cell_type": "markdown",
      "source": [
        "## X, Y 데이터 분리"
      ],
      "metadata": {
        "id": "ZmFD_dmNP-Dx"
      }
    },
    {
      "cell_type": "code",
      "source": [
        "# Features\n",
        "X = train.drop('attack_type',axis=1)\n",
        "\n",
        "# Target\n",
        "y = train['attack_type'].values"
      ],
      "metadata": {
        "id": "-GB--Uv0QGVy"
      },
      "execution_count": 307,
      "outputs": []
    }
  ]
}
